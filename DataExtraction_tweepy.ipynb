{
  "nbformat": 4,
  "nbformat_minor": 0,
  "metadata": {
    "kernelspec": {
      "display_name": "Python 3",
      "language": "python",
      "name": "python3"
    },
    "language_info": {
      "codemirror_mode": {
        "name": "ipython",
        "version": 3
      },
      "file_extension": ".py",
      "mimetype": "text/x-python",
      "name": "python",
      "nbconvert_exporter": "python",
      "pygments_lexer": "ipython3",
      "version": "3.7.6"
    },
    "colab": {
      "name": "DataExtraction.ipynb",
      "provenance": []
    }
  },
  "cells": [
    {
      "cell_type": "code",
      "metadata": {
        "scrolled": false,
        "id": "xEljxj0to2Bp",
        "outputId": "90a03588-df93-4210-fa4b-35dd7e28dcac"
      },
      "source": [
        "!pip install tweepy"
      ],
      "execution_count": null,
      "outputs": [
        {
          "output_type": "stream",
          "text": [
            "Requirement already satisfied: tweepy in c:\\users\\suraj\\anaconda3\\lib\\site-packages (3.10.0)\n",
            "Requirement already satisfied: requests-oauthlib>=0.7.0 in c:\\users\\suraj\\anaconda3\\lib\\site-packages (from tweepy) (1.3.0)\n",
            "Requirement already satisfied: six>=1.10.0 in c:\\users\\suraj\\anaconda3\\lib\\site-packages (from tweepy) (1.15.0)\n",
            "Requirement already satisfied: requests[socks]>=2.11.1 in c:\\users\\suraj\\anaconda3\\lib\\site-packages (from tweepy) (2.22.0)\n",
            "Requirement already satisfied: oauthlib>=3.0.0 in c:\\users\\suraj\\anaconda3\\lib\\site-packages (from requests-oauthlib>=0.7.0->tweepy) (3.1.0)\n",
            "Requirement already satisfied: certifi>=2017.4.17 in c:\\users\\suraj\\anaconda3\\lib\\site-packages (from requests[socks]>=2.11.1->tweepy) (2019.11.28)\n",
            "Requirement already satisfied: urllib3!=1.25.0,!=1.25.1,<1.26,>=1.21.1 in c:\\users\\suraj\\anaconda3\\lib\\site-packages (from requests[socks]>=2.11.1->tweepy) (1.25.8)\n",
            "Requirement already satisfied: chardet<3.1.0,>=3.0.2 in c:\\users\\suraj\\anaconda3\\lib\\site-packages (from requests[socks]>=2.11.1->tweepy) (3.0.4)\n",
            "Requirement already satisfied: idna<2.9,>=2.5 in c:\\users\\suraj\\anaconda3\\lib\\site-packages (from requests[socks]>=2.11.1->tweepy) (2.8)\n",
            "Requirement already satisfied: PySocks!=1.5.7,>=1.5.6; extra == \"socks\" in c:\\users\\suraj\\anaconda3\\lib\\site-packages (from requests[socks]>=2.11.1->tweepy) (1.7.1)\n"
          ],
          "name": "stdout"
        }
      ]
    },
    {
      "cell_type": "code",
      "metadata": {
        "id": "xskKq5qxo2Br"
      },
      "source": [
        "import pandas as pd\n",
        "import tweepy\n",
        "import re"
      ],
      "execution_count": null,
      "outputs": []
    },
    {
      "cell_type": "code",
      "metadata": {
        "id": "ulAngvOfo2Bs"
      },
      "source": [
        "access_token = ''\n",
        "access_token_secret = ''\n",
        "consumer_key = ''\n",
        "consumer_secret = ''\n",
        "\n",
        "auth = tweepy.OAuthHandler(consumer_key, consumer_secret)\n",
        "auth.set_access_token(access_token, access_token_secret)\n",
        "api = tweepy.API(auth)"
      ],
      "execution_count": null,
      "outputs": []
    },
    {
      "cell_type": "code",
      "metadata": {
        "id": "Jy6qHaDuo2Bs"
      },
      "source": [
        "number_of_tweets = 50\n",
        "content = []\n",
        "date_time = []\n",
        "org1 = 'Microsoft'\n",
        "cursor = tweepy.Cursor(api.user_timeline, id = org1, tweet_mode = 'extended', exclude_replies = True).items(number_of_tweets)\n",
        "for i in cursor:\n",
        "    content.append(i.full_text)\n",
        "    date_time.append(i.created_at)\n",
        "    \n",
        "df = pd.DataFrame({'tweet(Google)': content, 'date & time': date_time})"
      ],
      "execution_count": null,
      "outputs": []
    },
    {
      "cell_type": "code",
      "metadata": {
        "scrolled": true,
        "id": "dStuBQqzo2Bt"
      },
      "source": [
        "df"
      ],
      "execution_count": null,
      "outputs": []
    },
    {
      "cell_type": "code",
      "metadata": {
        "id": "qdpSxwSpo2Bt"
      },
      "source": [
        "# saving to excel\n",
        "df.to_excel(\"excel.xlsx\", index=False)"
      ],
      "execution_count": null,
      "outputs": []
    },
    {
      "cell_type": "code",
      "metadata": {
        "id": "06dbBDywo2Bt"
      },
      "source": [
        "df.rename(columns = {'tweet(Google)' : 'tweet'}, inplace = True)"
      ],
      "execution_count": null,
      "outputs": []
    },
    {
      "cell_type": "code",
      "metadata": {
        "scrolled": true,
        "id": "PKmB3F8Eo2Bu"
      },
      "source": [
        "tweet_content = df.loc[:,['tweet']]"
      ],
      "execution_count": null,
      "outputs": []
    },
    {
      "cell_type": "code",
      "metadata": {
        "id": "sTr2xgAvo2Bu"
      },
      "source": [
        "import string\n",
        "def clean_text(text):\n",
        "    #Make text lowercase   \n",
        "    text = text.lower()\n",
        "    #remove text in square brackets\n",
        "    text = re.sub(r'\\[.*?\\]', '', text)\n",
        "    # remove mentions\n",
        "    text = re.sub(r'@[A-Za-z0-9]+', '', text)\n",
        "    # removing urls\n",
        "    text = re.sub(r'https?:\\/\\/\\S+', '', text)\n",
        "    #remove words containing numbers\n",
        "    text = re.sub(r'\\w*\\d\\w*', '', text)\n",
        "    # removing emoji\n",
        "    emoji_pattern = re.compile(\"[\"\n",
        "                               u\"\\U0001F600-\\U0001F64F\"  # emoticons\n",
        "                               u\"\\U0001F300-\\U0001F5FF\"  # symbols & pictographs\n",
        "                               u\"\\U0001F680-\\U0001F6FF\"  # transport & map symbols\n",
        "                               u\"\\U0001F1E0-\\U0001F1FF\"  # flags (iOS)\n",
        "                               u\"\\U00002500-\\U00002BEF\"  # chinese char\n",
        "                               u\"\\U00002702-\\U000027B0\"\n",
        "                               u\"\\U00002702-\\U000027B0\"\n",
        "                               u\"\\U000024C2-\\U0001F251\"\n",
        "                               u\"\\U0001f926-\\U0001f937\"\n",
        "                               u\"\\U00010000-\\U0010ffff\"\n",
        "                               u\"\\u2640-\\u2642\"\n",
        "                               u\"\\u2600-\\u2B55\"\n",
        "                               u\"\\u200d\"\n",
        "                               u\"\\u23cf\"\n",
        "                               u\"\\u23e9\"\n",
        "                               u\"\\u231a\"\n",
        "                               u\"\\ufe0f\"  # dingbats\n",
        "                               u\"\\u3030\"\n",
        "                               \"]+\", flags=re.UNICODE)\n",
        "    text = emoji_pattern.sub(r'', text)\n",
        "    #remove punctuation   \n",
        "    text = re.sub(r'[%s]' % re.escape(string.punctuation), '', text) \n",
        "    return text\n",
        "tweets_df_clean = pd.DataFrame(tweet_content.tweet.apply(lambda x: clean_text(x)))"
      ],
      "execution_count": null,
      "outputs": []
    },
    {
      "cell_type": "code",
      "metadata": {
        "id": "ohiZVt0zo2Bu"
      },
      "source": [
        "tweets_df_clean"
      ],
      "execution_count": null,
      "outputs": []
    },
    {
      "cell_type": "code",
      "metadata": {
        "scrolled": true,
        "id": "lwzdHAIEo2Bv"
      },
      "source": [
        "# saving to excel\n",
        "tweets_df_clean.to_excel(\"clean_excel.xlsx\", index=False)"
      ],
      "execution_count": null,
      "outputs": []
    }
  ]
}