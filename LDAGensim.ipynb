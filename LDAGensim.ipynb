{
  "nbformat": 4,
  "nbformat_minor": 0,
  "metadata": {
    "colab": {
      "name": "LDAGensim.ipynb",
      "provenance": []
    },
    "kernelspec": {
      "name": "python3",
      "display_name": "Python 3"
    },
    "language_info": {
      "name": "python"
    }
  },
  "cells": [
    {
      "cell_type": "code",
      "metadata": {
        "colab": {
          "base_uri": "https://localhost:8080/",
          "height": 938
        },
        "id": "uSc7S2KY8f60",
        "outputId": "b2631afc-0931-44ac-a3bc-a2250db6fd24"
      },
      "source": [
        "import nltk; nltk.download('stopwords')\n",
        "!pip install pyLDAvis\n"
      ],
      "execution_count": null,
      "outputs": [
        {
          "output_type": "stream",
          "text": [
            "[nltk_data] Downloading package stopwords to /root/nltk_data...\n",
            "[nltk_data]   Package stopwords is already up-to-date!\n",
            "Collecting pyLDAvis\n",
            "\u001b[?25l  Downloading https://files.pythonhosted.org/packages/03/a5/15a0da6b0150b8b68610cc78af80364a80a9a4c8b6dd5ee549b8989d4b60/pyLDAvis-3.3.1.tar.gz (1.7MB)\n",
            "\u001b[K     |████████████████████████████████| 1.7MB 12.5MB/s \n",
            "\u001b[?25h  Installing build dependencies ... \u001b[?25l\u001b[?25hdone\n",
            "  Getting requirements to build wheel ... \u001b[?25l\u001b[?25hdone\n",
            "  Installing backend dependencies ... \u001b[?25l\u001b[?25hdone\n",
            "    Preparing wheel metadata ... \u001b[?25l\u001b[?25hdone\n",
            "Requirement already satisfied: future in /usr/local/lib/python3.7/dist-packages (from pyLDAvis) (0.16.0)\n",
            "Requirement already satisfied: jinja2 in /usr/local/lib/python3.7/dist-packages (from pyLDAvis) (2.11.3)\n",
            "Collecting numpy>=1.20.0\n",
            "\u001b[?25l  Downloading https://files.pythonhosted.org/packages/a5/42/560d269f604d3e186a57c21a363e77e199358d054884e61b73e405dd217c/numpy-1.20.3-cp37-cp37m-manylinux_2_12_x86_64.manylinux2010_x86_64.whl (15.3MB)\n",
            "\u001b[K     |████████████████████████████████| 15.3MB 248kB/s \n",
            "\u001b[?25hRequirement already satisfied: setuptools in /usr/local/lib/python3.7/dist-packages (from pyLDAvis) (56.1.0)\n",
            "Collecting pandas>=1.2.0\n",
            "\u001b[?25l  Downloading https://files.pythonhosted.org/packages/51/51/48f3fc47c4e2144da2806dfb6629c4dd1fa3d5a143f9652b141e979a8ca9/pandas-1.2.4-cp37-cp37m-manylinux1_x86_64.whl (9.9MB)\n",
            "\u001b[K     |████████████████████████████████| 9.9MB 49.7MB/s \n",
            "\u001b[?25hRequirement already satisfied: sklearn in /usr/local/lib/python3.7/dist-packages (from pyLDAvis) (0.0)\n",
            "Requirement already satisfied: numexpr in /usr/local/lib/python3.7/dist-packages (from pyLDAvis) (2.7.3)\n",
            "Requirement already satisfied: joblib in /usr/local/lib/python3.7/dist-packages (from pyLDAvis) (1.0.1)\n",
            "Requirement already satisfied: gensim in /usr/local/lib/python3.7/dist-packages (from pyLDAvis) (3.6.0)\n",
            "Requirement already satisfied: scikit-learn in /usr/local/lib/python3.7/dist-packages (from pyLDAvis) (0.22.2.post1)\n",
            "Requirement already satisfied: scipy in /usr/local/lib/python3.7/dist-packages (from pyLDAvis) (1.4.1)\n",
            "Collecting funcy\n",
            "  Downloading https://files.pythonhosted.org/packages/44/52/5cf7401456a461e4b481650dfb8279bc000f31a011d0918904f86e755947/funcy-1.16-py2.py3-none-any.whl\n",
            "Requirement already satisfied: MarkupSafe>=0.23 in /usr/local/lib/python3.7/dist-packages (from jinja2->pyLDAvis) (2.0.1)\n",
            "Requirement already satisfied: python-dateutil>=2.7.3 in /usr/local/lib/python3.7/dist-packages (from pandas>=1.2.0->pyLDAvis) (2.8.1)\n",
            "Requirement already satisfied: pytz>=2017.3 in /usr/local/lib/python3.7/dist-packages (from pandas>=1.2.0->pyLDAvis) (2018.9)\n",
            "Requirement already satisfied: smart-open>=1.2.1 in /usr/local/lib/python3.7/dist-packages (from gensim->pyLDAvis) (5.0.0)\n",
            "Requirement already satisfied: six>=1.5.0 in /usr/local/lib/python3.7/dist-packages (from gensim->pyLDAvis) (1.15.0)\n",
            "Building wheels for collected packages: pyLDAvis\n",
            "  Building wheel for pyLDAvis (PEP 517) ... \u001b[?25l\u001b[?25hdone\n",
            "  Created wheel for pyLDAvis: filename=pyLDAvis-3.3.1-cp37-none-any.whl size=136870 sha256=ad44cb78c1ec6552cfae8cc63594cede64f307d196e6077ab520ff0df42d2b8b\n",
            "  Stored in directory: /root/.cache/pip/wheels/a0/9c/fc/c6e00689d35c82cf96a8adc70edfe7ba7904374fdac3240ac2\n",
            "Successfully built pyLDAvis\n",
            "\u001b[31mERROR: tensorflow 2.5.0 has requirement numpy~=1.19.2, but you'll have numpy 1.20.3 which is incompatible.\u001b[0m\n",
            "\u001b[31mERROR: google-colab 1.0.0 has requirement pandas~=1.1.0; python_version >= \"3.0\", but you'll have pandas 1.2.4 which is incompatible.\u001b[0m\n",
            "\u001b[31mERROR: datascience 0.10.6 has requirement folium==0.2.1, but you'll have folium 0.8.3 which is incompatible.\u001b[0m\n",
            "\u001b[31mERROR: albumentations 0.1.12 has requirement imgaug<0.2.7,>=0.2.5, but you'll have imgaug 0.2.9 which is incompatible.\u001b[0m\n",
            "Installing collected packages: numpy, pandas, funcy, pyLDAvis\n",
            "  Found existing installation: numpy 1.19.5\n",
            "    Uninstalling numpy-1.19.5:\n",
            "      Successfully uninstalled numpy-1.19.5\n",
            "  Found existing installation: pandas 1.1.5\n",
            "    Uninstalling pandas-1.1.5:\n",
            "      Successfully uninstalled pandas-1.1.5\n",
            "Successfully installed funcy-1.16 numpy-1.20.3 pandas-1.2.4 pyLDAvis-3.3.1\n"
          ],
          "name": "stdout"
        },
        {
          "output_type": "display_data",
          "data": {
            "application/vnd.colab-display-data+json": {
              "pip_warning": {
                "packages": [
                  "numpy",
                  "pandas"
                ]
              }
            }
          },
          "metadata": {
            "tags": []
          }
        }
      ]
    },
    {
      "cell_type": "code",
      "metadata": {
        "id": "uiQM4qd88tzb"
      },
      "source": [
        "import re\n",
        "import numpy as np\n",
        "import pandas as pd\n",
        "from pprint import pprint\n",
        "\n",
        "# Gensim\n",
        "import gensim\n",
        "import gensim.corpora as corpora\n",
        "from gensim.utils import simple_preprocess\n",
        "from gensim.models import CoherenceModel\n",
        "\n",
        "# spacy for lemmatization\n",
        "import spacy\n",
        "\n",
        "# Plotting tools\n",
        "import pyLDAvis\n",
        "import pyLDAvis\n",
        "import pyLDAvis.gensim_models as gensimvis\n",
        "\n",
        "import matplotlib.pyplot as plt\n",
        "%matplotlib inline\n",
        "\n",
        "# Enable logging for gensim - optional\n",
        "import logging\n",
        "logging.basicConfig(format='%(asctime)s : %(levelname)s : %(message)s', level=logging.ERROR)\n",
        "\n",
        "import warnings\n",
        "warnings.filterwarnings(\"ignore\",category=DeprecationWarning)"
      ],
      "execution_count": null,
      "outputs": []
    },
    {
      "cell_type": "code",
      "metadata": {
        "id": "Ae7Hgf9Q9VOC"
      },
      "source": [
        "# NLTK Stop words\n",
        "from nltk.corpus import stopwords\n",
        "stop_words = stopwords.words('english')\n",
        "stop_words.extend(['from', 'subject', 're', 'edu', 'use'])"
      ],
      "execution_count": null,
      "outputs": []
    },
    {
      "cell_type": "code",
      "metadata": {
        "colab": {
          "base_uri": "https://localhost:8080/",
          "height": 306
        },
        "id": "Tzpobg7E9ZIw",
        "outputId": "b5fdf8ba-c5ab-42f0-cf88-a79fec8a40eb"
      },
      "source": [
        "df = pd.read_csv('/content/Apple-Twitter-Sentiment-DFE.csv')\n",
        "print(df.tweet.unique())\n",
        "df.head()"
      ],
      "execution_count": null,
      "outputs": [
        {
          "output_type": "stream",
          "text": [
            "['#AAPL:The 10 best Steve Jobs emails ever...http://t.co/82G1kL94tx'\n",
            " 'RT @JPDesloges: Why AAPL Stock Had a Mini-Flash Crash Today $AAPL #aapl\\nhttp://t.co/hGFcjYa0E9'\n",
            " 'My cat only chews @apple cords. Such an #AppleSnob.' ...\n",
            " 'RT @MMLXIV: there is no avocado emoji may I ask why @apple'\n",
            " '@marcbulandr I could not agree more. Between @Apple @Twitter and @IBMWatson only great things will happen. #AppleandIBM #IBMandTwitter'\n",
            " \"My iPhone 5's photos are no longer downloading automatically to my laptop when I sync it. @apple support is unhelpful. Any ideas?\"]\n"
          ],
          "name": "stdout"
        },
        {
          "output_type": "execute_result",
          "data": {
            "text/html": [
              "<div>\n",
              "<style scoped>\n",
              "    .dataframe tbody tr th:only-of-type {\n",
              "        vertical-align: middle;\n",
              "    }\n",
              "\n",
              "    .dataframe tbody tr th {\n",
              "        vertical-align: top;\n",
              "    }\n",
              "\n",
              "    .dataframe thead th {\n",
              "        text-align: right;\n",
              "    }\n",
              "</style>\n",
              "<table border=\"1\" class=\"dataframe\">\n",
              "  <thead>\n",
              "    <tr style=\"text-align: right;\">\n",
              "      <th></th>\n",
              "      <th>tweet</th>\n",
              "    </tr>\n",
              "  </thead>\n",
              "  <tbody>\n",
              "    <tr>\n",
              "      <th>0</th>\n",
              "      <td>#AAPL:The 10 best Steve Jobs emails ever...htt...</td>\n",
              "    </tr>\n",
              "    <tr>\n",
              "      <th>1</th>\n",
              "      <td>RT @JPDesloges: Why AAPL Stock Had a Mini-Flas...</td>\n",
              "    </tr>\n",
              "    <tr>\n",
              "      <th>2</th>\n",
              "      <td>My cat only chews @apple cords. Such an #Apple...</td>\n",
              "    </tr>\n",
              "    <tr>\n",
              "      <th>3</th>\n",
              "      <td>I agree with @jimcramer that the #IndividualIn...</td>\n",
              "    </tr>\n",
              "    <tr>\n",
              "      <th>4</th>\n",
              "      <td>Nobody expects the Spanish Inquisition #AAPL</td>\n",
              "    </tr>\n",
              "  </tbody>\n",
              "</table>\n",
              "</div>"
            ],
            "text/plain": [
              "                                               tweet\n",
              "0  #AAPL:The 10 best Steve Jobs emails ever...htt...\n",
              "1  RT @JPDesloges: Why AAPL Stock Had a Mini-Flas...\n",
              "2  My cat only chews @apple cords. Such an #Apple...\n",
              "3  I agree with @jimcramer that the #IndividualIn...\n",
              "4       Nobody expects the Spanish Inquisition #AAPL"
            ]
          },
          "metadata": {
            "tags": []
          },
          "execution_count": 8
        }
      ]
    },
    {
      "cell_type": "code",
      "metadata": {
        "colab": {
          "base_uri": "https://localhost:8080/"
        },
        "id": "nLYo4Bzm-ZLJ",
        "outputId": "f5b7afe6-c6c1-4f2f-a8b4-93f37c18f8ea"
      },
      "source": [
        "# Convert to list\n",
        "data = df.tweet.values.tolist()\n",
        "\n",
        "# Remove Emails\n",
        "data = [re.sub('\\S*@\\S*\\s?', '', sent) for sent in data]\n",
        "\n",
        "# Remove new line characters\n",
        "data = [re.sub('\\s+', ' ', sent) for sent in data]\n",
        "\n",
        "# Remove distracting single quotes\n",
        "data = [re.sub(\"\\'\", \"\", sent) for sent in data]\n",
        "\n",
        "pprint(data[:1])"
      ],
      "execution_count": null,
      "outputs": [
        {
          "output_type": "stream",
          "text": [
            "['#AAPL:The 10 best Steve Jobs emails ever...http://t.co/82G1kL94tx']\n"
          ],
          "name": "stdout"
        }
      ]
    },
    {
      "cell_type": "code",
      "metadata": {
        "colab": {
          "base_uri": "https://localhost:8080/"
        },
        "id": "ufPwcVckHzlz",
        "outputId": "b0cca85e-07dd-4b96-c28b-59e04d6553e4"
      },
      "source": [
        "#tokenize each sentence into a list of words\n",
        "def sent_to_words(sentences):\n",
        "    for sentence in sentences:\n",
        "        yield(gensim.utils.simple_preprocess(str(sentence), deacc=True))  # deacc=True removes punctuations\n",
        "\n",
        "data_words = list(sent_to_words(data))\n",
        "\n",
        "print(data_words[:1])"
      ],
      "execution_count": null,
      "outputs": [
        {
          "output_type": "stream",
          "text": [
            "[['aapl', 'the', 'best', 'steve', 'jobs', 'emails', 'ever', 'http', 'co', 'kl', 'tx']]\n"
          ],
          "name": "stdout"
        }
      ]
    },
    {
      "cell_type": "code",
      "metadata": {
        "colab": {
          "base_uri": "https://localhost:8080/"
        },
        "id": "7VzoX9mOH7ad",
        "outputId": "1ab2ff6d-5d33-436e-b5e2-580f14c0b4ad"
      },
      "source": [
        "# Build the bigram and trigram models\n",
        "bigram = gensim.models.Phrases(data_words, min_count=5, threshold=100) # higher threshold fewer phrases.\n",
        "trigram = gensim.models.Phrases(bigram[data_words], threshold=100)  \n",
        "\n",
        "# Faster way to get a sentence clubbed as a trigram/bigram\n",
        "bigram_mod = gensim.models.phrases.Phraser(bigram)\n",
        "trigram_mod = gensim.models.phrases.Phraser(trigram)\n",
        "\n",
        "# See trigram example\n",
        "print(trigram_mod[bigram_mod[data_words[0]]])"
      ],
      "execution_count": null,
      "outputs": [
        {
          "output_type": "stream",
          "text": [
            "/usr/local/lib/python3.7/dist-packages/gensim/models/phrases.py:598: UserWarning: For a faster implementation, use the gensim.models.phrases.Phraser class\n",
            "  warnings.warn(\"For a faster implementation, use the gensim.models.phrases.Phraser class\")\n"
          ],
          "name": "stderr"
        },
        {
          "output_type": "stream",
          "text": [
            "['aapl', 'the', 'best', 'steve_jobs', 'emails', 'ever', 'http', 'co', 'kl', 'tx']\n"
          ],
          "name": "stdout"
        }
      ]
    },
    {
      "cell_type": "code",
      "metadata": {
        "id": "-HxOv46nIBM5"
      },
      "source": [
        "# Define functions for stopwords, bigrams, trigrams and lemmatization\n",
        "def remove_stopwords(texts):\n",
        "    return [[word for word in simple_preprocess(str(doc)) if word not in stop_words] for doc in texts]\n",
        "\n",
        "def make_bigrams(texts):\n",
        "    return [bigram_mod[doc] for doc in texts]\n",
        "\n",
        "def make_trigrams(texts):\n",
        "    return [trigram_mod[bigram_mod[doc]] for doc in texts]\n",
        "\n",
        "def lemmatization(texts, allowed_postags=['NOUN', 'ADJ', 'VERB', 'ADV']):\n",
        "    \"\"\"https://spacy.io/api/annotation\"\"\"\n",
        "    texts_out = []\n",
        "    for sent in texts:\n",
        "        doc = nlp(\" \".join(sent)) \n",
        "        texts_out.append([token.lemma_ for token in doc if token.pos_ in allowed_postags])\n",
        "    return texts_out"
      ],
      "execution_count": null,
      "outputs": []
    },
    {
      "cell_type": "code",
      "metadata": {
        "colab": {
          "base_uri": "https://localhost:8080/"
        },
        "id": "FbjE9fT2IHr2",
        "outputId": "f905ca73-7795-4ab5-f609-c7e5eee1806e"
      },
      "source": [
        "# Remove Stop Words\n",
        "data_words_nostops = remove_stopwords(data_words)\n",
        "\n",
        "# Form Bigrams\n",
        "data_words_bigrams = make_bigrams(data_words_nostops)\n",
        "\n",
        "# Initialize spacy 'en' model, keeping only tagger component (for efficiency)\n",
        "# python3 -m spacy download en\n",
        "nlp = spacy.load('en', disable=['parser', 'ner'])\n",
        "\n",
        "# Do lemmatization keeping only noun, adj, vb, adv\n",
        "data_lemmatized = lemmatization(data_words_bigrams, allowed_postags=['NOUN', 'ADJ', 'VERB', 'ADV'])\n",
        "\n",
        "print(data_lemmatized[:1])"
      ],
      "execution_count": null,
      "outputs": [
        {
          "output_type": "stream",
          "text": [
            "[['good', 'email', 'ever', 'http', 'co']]\n"
          ],
          "name": "stdout"
        }
      ]
    },
    {
      "cell_type": "code",
      "metadata": {
        "colab": {
          "base_uri": "https://localhost:8080/"
        },
        "id": "e_uVoPmZIym1",
        "outputId": "c4d79c82-4b73-4a9d-df19-70020d8b3f23"
      },
      "source": [
        "# Create Dictionary\n",
        "id2word = corpora.Dictionary(data_lemmatized)\n",
        "\n",
        "# Create Corpus\n",
        "texts = data_lemmatized\n",
        "\n",
        "# Term Document Frequency\n",
        "corpus = [id2word.doc2bow(text) for text in texts]\n",
        "\n",
        "# View\n",
        "print(corpus[:1])"
      ],
      "execution_count": null,
      "outputs": [
        {
          "output_type": "stream",
          "text": [
            "[[(0, 1), (1, 1), (2, 1), (3, 1), (4, 1)]]\n"
          ],
          "name": "stdout"
        }
      ]
    },
    {
      "cell_type": "code",
      "metadata": {
        "colab": {
          "base_uri": "https://localhost:8080/"
        },
        "id": "7sVZU6gMI9HL",
        "outputId": "8f1a68b9-f930-4b55-9b6d-e5f572f9454a"
      },
      "source": [
        "# Human readable format of corpus (term-frequency)\n",
        "[[(id2word[id], freq) for id, freq in cp] for cp in corpus[:1]]"
      ],
      "execution_count": null,
      "outputs": [
        {
          "output_type": "execute_result",
          "data": {
            "text/plain": [
              "[[('co', 1), ('email', 1), ('ever', 1), ('good', 1), ('http', 1)]]"
            ]
          },
          "metadata": {
            "tags": []
          },
          "execution_count": 15
        }
      ]
    },
    {
      "cell_type": "code",
      "metadata": {
        "id": "cbjaDgKhJAx6"
      },
      "source": [
        "# Build LDA model\n",
        "lda_model = gensim.models.ldamodel.LdaModel(corpus=corpus,\n",
        "                                           id2word=id2word,\n",
        "                                           num_topics=20, \n",
        "                                           random_state=100,\n",
        "                                           update_every=1,\n",
        "                                           chunksize=100,\n",
        "                                           passes=10,\n",
        "                                           alpha='auto',\n",
        "                                           per_word_topics=True)"
      ],
      "execution_count": null,
      "outputs": []
    },
    {
      "cell_type": "code",
      "metadata": {
        "colab": {
          "base_uri": "https://localhost:8080/"
        },
        "id": "jrdBvsO6JFDW",
        "outputId": "91970876-3448-411e-b05e-cfe921c7bb9b"
      },
      "source": [
        "# Print the Keyword in the 10 topics\n",
        "pprint(lda_model.print_topics())\n",
        "doc_lda = lda_model[corpus]"
      ],
      "execution_count": null,
      "outputs": [
        {
          "output_type": "stream",
          "text": [
            "[(0,\n",
            "  '0.256*\"aapl\" + 0.049*\"really\" + 0.031*\"detect\" + 0.025*\"ever\" + '\n",
            "  '0.018*\"find\" + 0.017*\"fibonacci_technical\" + 0.015*\"peb\" + 0.014*\"lot\" + '\n",
            "  '0.014*\"create\" + 0.014*\"edkq\"'),\n",
            " (1,\n",
            "  '0.610*\"co\" + 0.033*\"still\" + 0.029*\"buy\" + 0.019*\"tedlcb\" + '\n",
            "  '0.018*\"stockaction_trade\" + 0.018*\"stocks_mkt\" + 0.012*\"device\" + '\n",
            "  '0.009*\"lag\" + 0.009*\"post\" + 0.008*\"card\"'),\n",
            " (2,\n",
            "  '0.136*\"make\" + 0.091*\"be\" + 0.052*\"profit\" + 0.034*\"will\" + 0.033*\"come\" + '\n",
            "  '0.025*\"upgrade\" + 0.017*\"twice\" + 0.016*\"full\" + 0.015*\"emojis\" + '\n",
            "  '0.015*\"check\"'),\n",
            " (3,\n",
            "  '0.130*\"battery\" + 0.057*\"stock\" + 0.050*\"name\" + 0.043*\"computer\" + '\n",
            "  '0.041*\"price\" + 0.030*\"game\" + 0.028*\"twitter\" + 0.026*\"music\" + '\n",
            "  '0.025*\"play\" + 0.021*\"brand\"'),\n",
            " (4,\n",
            "  '0.349*\"agree\" + 0.071*\"future\" + 0.039*\"could\" + 0.033*\"great\" + '\n",
            "  '0.026*\"plan\" + 0.024*\"see\" + 0.020*\"week\" + 0.020*\"reportedly\" + '\n",
            "  '0.017*\"security\" + 0.016*\"search\"'),\n",
            " (5,\n",
            "  '0.139*\"update\" + 0.110*\"year\" + 0.061*\"think\" + 0.052*\"watch\" + '\n",
            "  '0.044*\"look\" + 0.040*\"list\" + 0.033*\"top\" + 0.026*\"tech\" + 0.024*\"hold\" + '\n",
            "  '0.018*\"ri\"'),\n",
            " (6,\n",
            "  '0.072*\"say\" + 0.035*\"yosemite\" + 0.024*\"password\" + 0.023*\"die\" + '\n",
            "  '0.022*\"release\" + 0.022*\"hard\" + 0.021*\"target\" + 0.020*\"major\" + '\n",
            "  '0.018*\"order\" + 0.017*\"plaintiff\"'),\n",
            " (7,\n",
            "  '0.117*\"good\" + 0.035*\"open\" + 0.035*\"seem\" + 0.029*\"people\" + 0.025*\"issue\" '\n",
            "  '+ 0.022*\"ad\" + 0.022*\"laptop\" + 0.022*\"staff\" + 0.021*\"map\" + '\n",
            "  '0.018*\"retail\"'),\n",
            " (8,\n",
            "  '0.158*\"go\" + 0.156*\"get\" + 0.022*\"cover\" + 0.020*\"macbook\" + 0.020*\"report\" '\n",
            "  '+ 0.017*\"next\" + 0.014*\"mathematically\" + 0.012*\"sort\" + 0.011*\"figure\" + '\n",
            "  '0.011*\"amazing\"'),\n",
            " (9,\n",
            "  '0.064*\"help\" + 0.046*\"bad\" + 0.042*\"give\" + 0.030*\"center\" + 0.030*\"hate\" + '\n",
            "  '0.029*\"job\" + 0.027*\"happen\" + 0.026*\"return\" + 0.022*\"word\" + '\n",
            "  '0.018*\"wrong\"'),\n",
            " (10,\n",
            "  '0.061*\"know\" + 0.057*\"may\" + 0.042*\"free\" + 0.041*\"delete\" + 0.040*\"take\" + '\n",
            "  '0.038*\"day\" + 0.034*\"show\" + 0.032*\"leave\" + 0.025*\"remind\" + '\n",
            "  '0.021*\"workshop\"'),\n",
            " (11,\n",
            "  '0.409*\"store\" + 0.067*\"thank\" + 0.038*\"pay\" + 0.025*\"tell\" + 0.023*\"minute\" '\n",
            "  '+ 0.021*\"holiday\" + 0.019*\"supply\" + 0.015*\"drive\" + 0.014*\"drop\" + '\n",
            "  '0.012*\"continue\"'),\n",
            " (12,\n",
            "  '0.045*\"idea\" + 0.036*\"patent\" + 0.033*\"user\" + 0.027*\"sale\" + 0.021*\"world\" '\n",
            "  '+ 0.021*\"include\" + 0.019*\"message\" + 0.018*\"global\" + 0.017*\"technology\" + '\n",
            "  '0.017*\"primesense\"'),\n",
            " (13,\n",
            "  '0.072*\"new\" + 0.050*\"s\" + 0.035*\"turn\" + 0.029*\"problem\" + '\n",
            "  '0.025*\"hysbbxpvz\" + 0.025*\"amp\" + 0.025*\"thing\" + 0.022*\"even\" + '\n",
            "  '0.019*\"call\" + 0.018*\"shit\"'),\n",
            " (14,\n",
            "  '0.060*\"would\" + 0.049*\"last\" + 0.045*\"today\" + 0.042*\"use\" + 0.037*\"much\" + '\n",
            "  '0.036*\"quarter\" + 0.033*\"earn\" + 0.028*\"month\" + 0.021*\"catch\" + '\n",
            "  '0.019*\"touch\"'),\n",
            " (15,\n",
            "  '0.276*\"http\" + 0.177*\"need\" + 0.072*\"astp_ket\" + 0.037*\"company\" + '\n",
            "  '0.026*\"tv\" + 0.024*\"focus\" + 0.015*\"real\" + 0.015*\"pro\" + 0.010*\"deal\" + '\n",
            "  '0.010*\"short\"'),\n",
            " (16,\n",
            "  '0.085*\"app\" + 0.072*\"iphone\" + 0.053*\"product\" + 0.051*\"can\" + '\n",
            "  '0.042*\"charger\" + 0.041*\"time\" + 0.029*\"suck\" + 0.023*\"love\" + '\n",
            "  '0.022*\"break\" + 0.022*\"support\"'),\n",
            " (17,\n",
            "  '0.142*\"phone\" + 0.045*\"change\" + 0.032*\"try\" + 0.031*\"face\" + '\n",
            "  '0.030*\"screen\" + 0.028*\"right\" + 0.025*\"lose\" + 0.019*\"stuff\" + '\n",
            "  '0.017*\"keep\" + 0.016*\"box\"'),\n",
            " (18,\n",
            "  '0.069*\"fix\" + 0.049*\"weekend\" + 0.036*\"fuck\" + 0.033*\"way\" + '\n",
            "  '0.032*\"feature\" + 0.032*\"let\" + 0.027*\"launch\" + 0.025*\"camera\" + '\n",
            "  '0.019*\"speaker\" + 0.019*\"stay\"'),\n",
            " (19,\n",
            "  '0.267*\"apple\" + 0.083*\"warm\" + 0.050*\"work\" + 0.045*\"want\" + '\n",
            "  '0.036*\"fashion\" + 0.031*\"build\" + 0.023*\"ipad\" + 0.015*\"expect\" + '\n",
            "  '0.014*\"luxury\" + 0.013*\"ios\"')]\n"
          ],
          "name": "stdout"
        }
      ]
    },
    {
      "cell_type": "code",
      "metadata": {
        "colab": {
          "base_uri": "https://localhost:8080/"
        },
        "id": "kcuXvBORJNaS",
        "outputId": "8ab6113f-5fa5-48ee-fb13-2d8b109af408"
      },
      "source": [
        "# Compute Perplexity\n",
        "print('\\nPerplexity: ', lda_model.log_perplexity(corpus))  # a measure of how good the model is. lower the better.\n",
        "\n",
        "# Compute Coherence Score\n",
        "coherence_model_lda = CoherenceModel(model=lda_model, texts=data_lemmatized, dictionary=id2word, coherence='c_v')\n",
        "coherence_lda = coherence_model_lda.get_coherence()\n",
        "print('\\nCoherence Score: ', coherence_lda)"
      ],
      "execution_count": null,
      "outputs": [
        {
          "output_type": "stream",
          "text": [
            "\n",
            "Perplexity:  -8.08038730871924\n",
            "\n",
            "Coherence Score:  0.6130584397754935\n"
          ],
          "name": "stdout"
        }
      ]
    },
    {
      "cell_type": "code",
      "metadata": {
        "colab": {
          "base_uri": "https://localhost:8080/",
          "height": 861
        },
        "id": "bayOGtyIJQSu",
        "outputId": "90c5160c-16a7-467d-a72f-d1f5fd3e5020"
      },
      "source": [
        "# Visualize the topics\n",
        "pyLDAvis.enable_notebook()\n",
        "vis = gensimvis.prepare(lda_model, corpus, id2word)\n",
        "vis"
      ],
      "execution_count": null,
      "outputs": [
        {
          "output_type": "execute_result",
          "data": {
            "text/html": [
              "\n",
              "<link rel=\"stylesheet\" type=\"text/css\" href=\"https://cdn.jsdelivr.net/gh/bmabey/pyLDAvis@3.3.1/pyLDAvis/js/ldavis.v1.0.0.css\">\n",
              "\n",
              "\n",
              "<div id=\"ldavis_el145140130264142288292237509\"></div>\n",
              "<script type=\"text/javascript\">\n",
              "\n",
              "var ldavis_el145140130264142288292237509_data = {\"mdsDat\": {\"x\": [0.1259971398768686, 0.38083272639774013, -0.010055085934925571, 0.006557386528743109, -0.00998977648768145, 0.058299913237994695, 0.060026700012945924, -0.0513865892482116, -0.02277223804412212, -0.027433127414130565, -0.04766636492389748, -0.041705309928517204, -0.050590612584104945, -0.047608643196074725, -0.047007884738602436, -0.057457948963542956, -0.0540593776299983, -0.05553797798669601, -0.05535110343763206, -0.053091825536154894], \"y\": [0.38577214986792563, -0.16890674504428427, -0.005570098135165696, -0.0033754443403846888, -0.008950121167594513, 0.022428834043948027, 0.033221000839172524, -0.01731720794345061, -0.013295630105513778, -0.014558363478046033, -0.01883952108949628, -0.021118670092756635, -0.02235266277060378, -0.0201260470000583, -0.021059292936658702, -0.022849998273693065, -0.02052638695306265, -0.02134575802123832, -0.02089365813611124, -0.020336379262927178], \"topics\": [1, 2, 3, 4, 5, 6, 7, 8, 9, 10, 11, 12, 13, 14, 15, 16, 17, 18, 19, 20], \"cluster\": [1, 1, 1, 1, 1, 1, 1, 1, 1, 1, 1, 1, 1, 1, 1, 1, 1, 1, 1, 1], \"Freq\": [9.25295268001266, 9.23423553709405, 7.460876903569173, 6.000708047009251, 5.856950209771821, 5.517747213004259, 5.407621055718772, 5.323567520162044, 4.524571127369417, 4.4910148160734655, 4.2587137055623145, 4.180302879647946, 3.895207810246343, 3.8876151089444715, 3.8708992091445222, 3.4940430883298874, 3.4241490394084146, 3.3653507899826742, 3.3629820545580196, 3.190491204390496]}, \"tinfo\": {\"Term\": [\"co\", \"store\", \"agree\", \"http\", \"apple\", \"need\", \"aapl\", \"battery\", \"go\", \"get\", \"update\", \"make\", \"phone\", \"good\", \"new\", \"year\", \"app\", \"astp_ket\", \"warm\", \"be\", \"future\", \"iphone\", \"s\", \"thank\", \"stock\", \"product\", \"think\", \"can\", \"say\", \"know\", \"new\", \"s\", \"turn\", \"problem\", \"hysbbxpvz\", \"amp\", \"thing\", \"even\", \"call\", \"shit\", \"hire\", \"talk\", \"life\", \"first\", \"stop\", \"finally\", \"well\", \"share\", \"demand\", \"back\", \"hour\", \"sell\", \"actually\", \"pick\", \"increase\", \"reveal\", \"photo\", \"video\", \"longer\", \"send\", \"co\", \"still\", \"buy\", \"tedlcb\", \"stockaction_trade\", \"stocks_mkt\", \"device\", \"lag\", \"post\", \"card\", \"smartwatch\", \"visit\", \"set\", \"tkeapbxf\", \"display\", \"nail\", \"federal\", \"remove\", \"gift\", \"appleid\", \"building\", \"nomorepayword\", \"clock\", \"oe\", \"multiple\", \"fitnesstracker\", \"popular\", \"sim\", \"aj\", \"dictatorship\", \"obsnjd\", \"http\", \"need\", \"astp_ket\", \"company\", \"tv\", \"focus\", \"real\", \"pro\", \"deal\", \"short\", \"space\", \"move\", \"power\", \"slow\", \"freeze\", \"sorkin\", \"bank\", \"compete\", \"past\", \"hand\", \"folk\", \"iot\", \"endanger\", \"pass\", \"rather\", \"judge\", \"line\", \"smart\", \"read\", \"cp\", \"dnbrlk\", \"agree\", \"future\", \"great\", \"plan\", \"see\", \"week\", \"reportedly\", \"security\", \"search\", \"start\", \"place\", \"option\", \"meet\", \"access\", \"receive\", \"fast\", \"wifi\", \"grow\", \"experience\", \"could\", \"smartphone\", \"espionage\", \"event\", \"bmo\", \"shopping\", \"appleandibm\", \"ibmandtwitter\", \"fear\", \"operation\", \"ban\", \"app\", \"iphone\", \"product\", \"can\", \"charger\", \"time\", \"suck\", \"love\", \"break\", \"support\", \"have\", \"accord\", \"wait\", \"physical\", \"fashiontech\", \"ftdaily\", \"final\", \"case\", \"best\", \"dear\", \"install\", \"win\", \"elevate\", \"putcallratio\", \"live\", \"lead\", \"also\", \"design\", \"soon\", \"block\", \"apple\", \"warm\", \"work\", \"want\", \"fashion\", \"build\", \"ipad\", \"expect\", \"luxury\", \"ios\", \"better\", \"reason\", \"fall\", \"story\", \"fin\", \"recruit\", \"disappear\", \"datum\", \"green\", \"spy\", \"congrat\", \"discusse\", \"expert\", \"im_learne\", \"follow\", \"recently\", \"buyvsrgqy\", \"hcmixoo\", \"always\", \"czemrg\", \"rxutwt\", \"store\", \"thank\", \"pay\", \"tell\", \"minute\", \"holiday\", \"supply\", \"drive\", \"drop\", \"continue\", \"run\", \"keyboard\", \"hoard\", \"awesome\", \"none\", \"rumor\", \"nice\", \"non\", \"point\", \"yet\", \"protest\", \"save\", \"police\", \"useless\", \"currently\", \"approve\", \"away\", \"oixg\", \"ypfn\", \"dumb\", \"battery\", \"stock\", \"name\", \"computer\", \"price\", \"game\", \"twitter\", \"music\", \"play\", \"brand\", \"head\", \"market\", \"trade\", \"key\", \"hit\", \"trader\", \"trial\", \"crazy\", \"education\", \"act\", \"tre\", \"owner\", \"claim\", \"trading\", \"antitrust\", \"cramer\", \"history\", \"beat\", \"temporarily\", \"biz\", \"update\", \"year\", \"think\", \"watch\", \"look\", \"list\", \"top\", \"tech\", \"hold\", \"ri\", \"mean\", \"earning\", \"big\", \"cash\", \"former\", \"threat\", \"raise\", \"congratulation\", \"imac\", \"wearable\", \"lawsuit\", \"grx\", \"th\", \"tier\", \"bug\", \"glitch\", \"diversity\", \"ignore\", \"cryptocurrency\", \"nus\", \"make\", \"be\", \"profit\", \"will\", \"come\", \"upgrade\", \"twice\", \"full\", \"emojis\", \"check\", \"cool\", \"possible\", \"brown\", \"preferably\", \"shxt\", \"storage\", \"ill\", \"hope\", \"style\", \"note\", \"download\", \"almost\", \"season\", \"automatically\", \"daily\", \"allow\", \"genius_bar\", \"view\", \"wear\", \"family\", \"know\", \"may\", \"free\", \"delete\", \"take\", \"day\", \"show\", \"leave\", \"remind\", \"workshop\", \"ringtone\", \"research\", \"code\", \"whole\", \"many\", \"able\", \"sense\", \"site\", \"tablet\", \"applewatch\", \"violence\", \"purchase\", \"graphic\", \"executive\", \"acquisition\", \"cvaworo\", \"replacement\", \"coverage\", \"due\", \"stage\", \"good\", \"open\", \"seem\", \"people\", \"issue\", \"ad\", \"laptop\", \"staff\", \"map\", \"retail\", \"email\", \"early\", \"kid\", \"guy\", \"spot\", \"member\", \"hurry\", \"high\", \"confirm\", \"channel\", \"employee\", \"pic\", \"push\", \"huge\", \"base\", \"capital\", \"group\", \"solution\", \"explain\", \"skin\", \"would\", \"today\", \"use\", \"much\", \"quarter\", \"earn\", \"month\", \"catch\", \"touch\", \"invest\", \"already\", \"easy\", \"money\", \"lifetime\", \"itune\", \"morning\", \"orjs\", \"analyst\", \"movie\", \"crash\", \"developer\", \"failure\", \"waste\", \"bro\", \"sincerely\", \"icloud\", \"man\", \"relief\", \"bullying\", \"anonymous\", \"last\", \"go\", \"get\", \"cover\", \"macbook\", \"report\", \"next\", \"mathematically\", \"sort\", \"figure\", \"amazing\", \"boost\", \"ago\", \"weak\", \"crappy\", \"moment\", \"leader\", \"album\", \"deserve\", \"folder\", \"strong\", \"bit\", \"gear\", \"definitely\", \"slide\", \"piss\", \"edtech\", \"put\", \"visual\", \"iefl\", \"ipade\", \"phone\", \"change\", \"try\", \"face\", \"screen\", \"right\", \"lose\", \"stuff\", \"keep\", \"box\", \"privacy\", \"pop\", \"difficult\", \"sometimes\", \"iwatch\", \"damn\", \"airmile\", \"airmilesshop\", \"ready\", \"mail\", \"wish\", \"quick\", \"terrible\", \"enough\", \"development\", \"backup\", \"restart\", \"supporter\", \"setting\", \"steal\", \"idea\", \"patent\", \"user\", \"sale\", \"world\", \"include\", \"message\", \"global\", \"technology\", \"mapping\", \"primesense\", \"taus\", \"facetime\", \"online\", \"massive\", \"number\", \"spend\", \"cooltech\", \"mentm\", \"rkev\", \"learn\", \"sfeap\", \"bond\", \"mobile\", \"client\", \"record\", \"android\", \"google\", \"grxkxabo\", \"malware\", \"minor\", \"help\", \"bad\", \"give\", \"center\", \"hate\", \"job\", \"happen\", \"return\", \"word\", \"wrong\", \"bose\", \"official\", \"sync\", \"prison\", \"rule\", \"stupid\", \"difference\", \"actual\", \"stream\", \"model\", \"together\", \"innovation\", \"sentence\", \"designer\", \"medium\", \"legendary\", \"previous\", \"operator\", \"rift\", \"arrive\", \"say\", \"yosemite\", \"password\", \"die\", \"release\", \"hard\", \"target\", \"major\", \"order\", \"plaintiff\", \"kill\", \"facility\", \"date\", \"positive\", \"file\", \"do\", \"simply\", \"must\", \"clone\", \"garage\", \"technical\", \"lol\", \"anger\", \"disqualify\", \"notice\", \"permission\", \"finder\", \"proof\", \"prediction\", \"productive\", \"aapl\", \"really\", \"detect\", \"ever\", \"find\", \"fibonacci_technical\", \"peb\", \"lot\", \"create\", \"edkq\", \"long\", \"manager\", \"fund\", \"level\", \"ello\", \"guru\", \"roll\", \"else\", \"small\", \"voaytlq\", \"bruh\", \"tool\", \"little\", \"impact\", \"refuse\", \"flag\", \"recommend\", \"leather\", \"pencil\", \"skirt\", \"last\", \"fix\", \"weekend\", \"fuck\", \"way\", \"feature\", \"let\", \"launch\", \"camera\", \"speaker\", \"stay\", \"tv_ad\", \"software\", \"type\", \"ask\", \"tomorrow\", \"ensure\", \"business\", \"third\", \"ck\", \"fe\", \"freak\", \"where\", \"lock\", \"ibdkwrdhz\", \"autocorrect\", \"person\", \"junk\", \"workforce\", \"wze\", \"op\"], \"Freq\": [1133.0, 445.0, 421.0, 414.0, 297.0, 266.0, 174.0, 139.0, 124.0, 122.0, 127.0, 123.0, 111.0, 99.0, 134.0, 100.0, 100.0, 108.0, 93.0, 82.0, 86.0, 85.0, 93.0, 73.0, 61.0, 62.0, 56.0, 61.0, 49.0, 53.0, 133.90362002927162, 92.49769967962513, 65.10699075205221, 53.3087965993678, 46.06146708435921, 45.75978015509573, 45.72026623232965, 40.78433141816432, 35.66980434504314, 34.32502469697972, 34.246776457955995, 33.46318182909999, 32.00694963458848, 31.312049971969444, 30.553735383494132, 28.779794479741042, 28.132156296123185, 26.469525877187753, 26.400331468415498, 26.33007852725066, 25.994206718821083, 23.2856804625731, 21.244043473324982, 20.903830122872794, 20.547468522942232, 19.92442259351872, 19.77349423840051, 19.576085743248477, 19.18769444303295, 18.45485912771271, 1132.7606014053702, 61.616194755398695, 53.10344206250621, 35.41272837205985, 33.14054682180028, 33.08809725993295, 22.29680565130798, 16.148500162322552, 15.887018279802463, 14.504594720948788, 13.825098336801915, 13.775635543728288, 11.780193034437456, 11.247344836868415, 10.632377354778288, 9.816457820606965, 9.172948758634657, 9.034360957652337, 7.987415073407294, 7.981224552037767, 7.981224552037767, 7.981224552037767, 6.881028167781437, 6.273697477449222, 5.337250800367381, 5.0483481326803155, 4.70232945509454, 4.601878931131919, 4.651665470924285, 4.651665470924285, 4.651665470924285, 413.3653922280325, 265.7932592459734, 107.61699417588599, 55.13695412191477, 38.93145685016638, 35.544608593819554, 23.091539921827735, 22.03607657007271, 15.240610408952978, 14.735561270698565, 14.200217062794747, 13.744916544239883, 12.667163888693374, 10.876884102561677, 10.21867911766083, 9.510078737699725, 9.246170642839454, 9.103042608130046, 8.58563628879394, 8.510149362353474, 7.793335075003681, 7.088406507214543, 7.030534081661435, 6.688639965068457, 6.63639294853818, 6.541539779736646, 6.396484689713854, 6.328762559909446, 6.067811751093707, 6.443734912582679, 6.408996230789839, 420.7208714644622, 86.06706631269505, 39.49466186043045, 30.803937573458228, 28.961555545262268, 24.313520864461665, 24.29096710114826, 20.388204305307315, 18.983792676622052, 15.943231017973288, 14.8636367245953, 14.235157021073908, 11.620538361503943, 10.85307786083858, 10.516992632123408, 9.737595737045293, 9.335603050437943, 8.869731441340544, 7.947018042601252, 47.623863279821414, 7.177241382572008, 6.796403101292267, 6.626654966723972, 6.614924178502629, 6.229549078638672, 6.131228310259794, 6.131228310259794, 5.8700460911937355, 5.699773267601462, 5.663839372411037, 100.13360634155013, 85.0094624241307, 62.04189026230574, 60.237046406488616, 49.44273719025954, 48.64367779417312, 34.53726924541112, 26.752742379265133, 26.40771882705548, 25.35248142284324, 21.802706168384876, 20.256167753554443, 19.293089863583557, 18.893421992065875, 18.55314458904276, 18.55314458904276, 17.719656968901038, 16.3711913263374, 16.12573930832099, 15.076892975610404, 14.105671623564835, 13.282856259403562, 12.152655358832156, 11.16318304539298, 10.738279872331725, 10.133156817197028, 9.816554232747881, 9.25315627705832, 8.910019999051537, 7.8190850390641735, 296.19840107902155, 92.46607448547249, 54.9974525061579, 49.4849413855064, 40.03367669225367, 34.395056528523206, 25.939787561026375, 16.615933622966182, 15.115938728246823, 13.963813998621339, 12.904485846120755, 12.560659253417768, 9.731591496225008, 9.664846724154032, 9.278497535741028, 7.575647854351541, 7.540959292734552, 7.202071974329174, 6.589185103617849, 6.523005439900941, 6.253840818302547, 6.017779458925683, 5.918075026207611, 5.396974356075889, 4.971690028551581, 4.733439519993243, 4.654865180813969, 4.654865180813969, 4.601536824904027, 4.650494630737409, 4.650494630737409, 444.40312417582146, 72.3684039377307, 41.19228374971767, 27.59832617798224, 24.602195015407837, 22.76807736641962, 20.149176060552215, 16.222059334172727, 15.014410057521202, 13.194041962865453, 11.943257762559586, 11.272430371488436, 10.633766610202223, 9.503728404080947, 8.424786295819917, 8.249773098902525, 8.132548529605144, 8.080691042580094, 8.065477940325126, 7.338678827027898, 7.293945694867384, 6.539858069908258, 6.372313979199302, 6.04787967741787, 5.638301412305489, 4.921499581738655, 4.910987956327783, 4.77493773618499, 4.77493773618499, 4.532148247530309, 138.60048705031946, 60.58140180690819, 53.613926044174, 45.59019245110451, 43.57655419088654, 31.854247642014876, 30.310374715249804, 27.494184877184555, 26.757769521865836, 22.809064651862165, 18.87194598047605, 18.60716585783653, 18.367260577996362, 15.68679292977621, 15.573691935528622, 13.816482046555087, 12.749728459901577, 12.40179563307495, 11.95736962698402, 9.043968951102796, 8.655849238878494, 7.288854724774946, 7.1265208587606494, 6.721919420173599, 6.575355602458309, 6.52316438266193, 6.465267777379756, 6.4368136125539355, 6.371850562407759, 6.342971782938865, 126.41554103340515, 99.8237170854872, 55.17846114695086, 47.329110035495546, 40.2461411238935, 36.05103344545637, 30.316631539536015, 23.61022393645161, 22.040181573397156, 15.9609356334739, 13.660535252763431, 13.443356637280067, 12.660874362582986, 11.450806969431751, 10.818847899070363, 10.710428021213907, 10.594464277717663, 10.112202441001477, 8.658356787535459, 7.719939717968493, 7.181669444092382, 5.34545442564309, 5.34545442564309, 5.32339296028751, 4.884440790833388, 4.361280697696651, 4.282569503065558, 4.231437681577216, 3.9426291935158737, 3.9426291935158737, 123.03069995054072, 81.97723263790753, 46.50569999611631, 30.50741291431373, 29.99193479651276, 22.467452028160807, 15.555491788954441, 14.458515755134748, 13.985038922722076, 13.484358374896345, 11.590303052728569, 11.427417106879965, 11.208743027290181, 11.208743027290181, 11.208743027290181, 11.187455649094181, 10.718827253349154, 10.670072127635757, 9.036233898163045, 8.816190887790235, 8.558370264832039, 7.654407585352988, 7.378833746410746, 6.493481546388281, 5.99747831888232, 5.974231721568108, 5.759148562684044, 5.658163850572073, 5.637225852437713, 5.50948854982982, 52.48502636647619, 48.65694488214975, 36.316998943884435, 35.077624320890074, 34.29347900964986, 32.38917577581566, 28.9433576752895, 27.72764586732725, 21.7534596485311, 18.23609494242461, 13.693328826972449, 12.728632951864045, 12.215217004399598, 12.019188650310744, 10.801491385769777, 10.509904362079933, 9.577422320618162, 8.52956531763, 8.18074132842474, 8.123057037150023, 7.20883322249124, 6.9644378703494745, 6.5332608899080435, 6.163717186165462, 6.03558865626627, 6.03558865626627, 5.698574944215889, 5.537302047406063, 5.486733903615986, 4.956721851532622, 98.60872433203645, 29.78962091566815, 29.485802177494662, 24.270390665536652, 21.364966465185166, 18.867446385459438, 18.25144820364899, 18.090002527188442, 17.64580815478216, 15.490749834213139, 15.139190074653182, 14.604432089836479, 13.813590126704613, 12.713009933223615, 11.781685107189366, 11.563903679264227, 10.035336296304509, 9.691873475334674, 8.412551699258326, 7.8227955819282675, 7.287764437945982, 6.820267005835136, 6.688639509120152, 6.666440826443203, 6.414835797483476, 5.80969941028728, 5.514708252770025, 5.362548813902757, 5.251319027830319, 5.2265292465354305, 46.87444396114249, 35.62891127284035, 32.57765745352315, 29.282177536963292, 27.970376091955007, 25.70148420064639, 21.90143138182794, 16.091603857041374, 15.104283437107208, 14.668448170915893, 14.330457374271374, 13.983353097517607, 13.946662880061135, 12.85688144695889, 11.612131469162842, 10.62426041882835, 9.651915687159493, 8.88663278261429, 8.649880672580306, 6.982124752264659, 6.874146495416485, 6.130726899667302, 5.9429652150589405, 5.724672351048094, 5.394352091139252, 5.3266256458667485, 5.231187540566148, 5.0949911166527535, 5.090867587800505, 5.0908679524564, 38.64401748267173, 123.83178758050293, 122.06264175458655, 17.175215248470472, 15.472854802679544, 15.326371270571611, 13.66111575477976, 11.009079898009663, 9.73058228026079, 8.714170985688652, 8.58135868700905, 8.470851855115615, 8.094249480914192, 7.504378922369564, 6.760947555461882, 6.638372304324399, 6.404828738917081, 6.239805115942731, 6.195010754044129, 6.040624882157968, 5.934458823374419, 5.567413647283633, 5.547869431908943, 5.302877609694001, 5.193104855050725, 5.0382651436350905, 4.986852076297035, 4.41091806715266, 4.109037259748456, 4.069059711139812, 4.069059711139812, 110.5340108825262, 34.63708002973762, 25.1375467153453, 23.901682358262637, 23.512136681397287, 22.133553953100385, 19.832036671695935, 15.049667392034076, 13.37048303440508, 12.707133019756782, 11.349184220447933, 10.246679403352857, 9.904346794140078, 9.832573770336536, 9.654814682623725, 9.290039867189833, 7.515261785228657, 7.515261785228657, 7.090553632115172, 7.03330553176964, 6.886727086590162, 6.843555283006343, 6.708187431911417, 6.654522547052957, 6.360648143884091, 5.987163520174333, 5.953661470034792, 5.728597270096824, 5.706987088831044, 5.393646345701161, 31.593544461024663, 25.58014674532073, 23.415290072602808, 18.91265583984935, 14.529168523469764, 14.487164927537822, 13.03870488137167, 12.443825993728383, 11.803668582557055, 11.603515946115328, 11.603515946115328, 11.024367963181563, 10.416187871406446, 9.748383293807063, 9.686729478098032, 9.368719354425846, 8.419026986783189, 8.13437912492051, 8.13437912492051, 8.13437912492051, 7.612925736399009, 7.555891230269698, 6.5418340401345025, 6.363306000514418, 6.200007748037211, 6.171801240199913, 5.711878677697455, 5.4968043825382935, 5.50994727015429, 5.502910689805975, 5.502910689805975, 43.796738674632046, 31.933454947000197, 28.893592400346083, 20.54068350174129, 20.336116846620882, 19.68300632145157, 18.765713232529723, 17.765835684811716, 14.870178910177893, 12.19257526476851, 11.135355198662385, 10.480434808671069, 9.977775788110058, 9.218783362498533, 8.559937431485208, 8.375746661512837, 8.023496832036129, 7.305220274336685, 7.26776511222861, 6.823321807323717, 6.687266517585443, 6.262194472190589, 5.764093131055588, 5.7132412508034855, 5.6443676560113465, 5.466134117326988, 5.167975396587389, 5.1733530608194, 5.16355844168438, 5.139171426795331, 48.73658696504437, 23.909224167573527, 15.994380468403483, 15.499332156689194, 15.026524031837248, 14.684767669915303, 14.48772122738381, 13.548164067573056, 11.961412177185968, 11.608999479129166, 11.167471027787544, 9.586143711536275, 9.553012159365808, 9.20229192339854, 8.935180952927393, 8.764590729961549, 8.487223540044617, 8.392136281464738, 8.146334832738193, 7.8945322637805475, 7.502828106856591, 6.898707985700489, 6.3813388336810215, 5.9476488888151335, 5.323840506136459, 5.304165476819351, 5.1358341803579695, 5.097532931533149, 4.912352626779071, 5.053719208921915, 173.35504381600367, 33.33069665099788, 21.149237247375233, 16.583747970927583, 11.92308031896643, 11.70495927303017, 9.832451706046761, 9.800040509145624, 9.77962121582653, 9.661410451700393, 9.18220529523296, 8.817183587832032, 8.81399246326633, 7.595259300573762, 7.524479049502213, 6.729815991906399, 5.9835348659166305, 5.851406693290942, 5.834548765509262, 5.115645007426846, 4.957962651814877, 5.09555691606544, 4.862743663133556, 4.845268037404175, 4.598337773272005, 4.357021571221091, 3.8767148219305154, 3.779826285738153, 3.779826285738153, 3.779826285738153, 7.369548944378935, 43.99586077324097, 31.471280189337698, 22.996381456709425, 21.04249441303307, 20.792695267468, 20.778523367826264, 17.617600745314395, 15.964346263655361, 12.072962691492753, 12.018273877962109, 11.684935553620344, 11.61901387881575, 9.419420838130437, 9.249219453628514, 7.37618344388027, 7.308998938362362, 6.807722647481183, 6.740505884225093, 6.740324882471954, 6.3258260888617315, 6.003674031283209, 5.872398178919832, 5.455613267457268, 4.9518797135017225, 4.751542433150605, 4.731046523411193, 4.104009557347649, 3.816825186642273, 3.6522255973220394, 3.651128236858295], \"Total\": [1133.0, 445.0, 421.0, 414.0, 297.0, 266.0, 174.0, 139.0, 124.0, 122.0, 127.0, 123.0, 111.0, 99.0, 134.0, 100.0, 100.0, 108.0, 93.0, 82.0, 86.0, 85.0, 93.0, 73.0, 61.0, 62.0, 56.0, 61.0, 49.0, 53.0, 134.74207608359055, 93.33615573700145, 65.94544680637115, 54.14725265368669, 46.899925455076215, 46.598236218386, 46.55872228664854, 41.62278747248321, 36.50826039936203, 35.16348075129861, 35.08523259599322, 34.30163788341888, 32.84540568890737, 32.150506028843836, 31.392191437813054, 29.61825055799849, 28.970612350442106, 27.307981931506674, 27.23878752611128, 27.16853458156958, 26.83266277625474, 24.124136520927586, 22.082499547569363, 21.74228618882011, 21.385924580570332, 20.762878677357453, 20.61195029271943, 20.4145417975674, 20.026150503140855, 19.29331518203163, 1133.6001782129872, 62.455771563016064, 53.94301887012358, 36.25230517967722, 33.98012362941765, 33.92767406755032, 23.136382467047817, 16.988081933915705, 16.726595087419856, 15.34417152856618, 14.664675721080865, 14.615212355300704, 12.619769842054849, 12.086921644485807, 11.471954220586328, 10.656049765259269, 10.01252557108986, 9.873937809415757, 8.826991881024687, 8.82278619614843, 8.82278619614843, 8.82278619614843, 7.720654365505401, 7.161700024048052, 6.176827643746346, 5.887936591758436, 5.542021097629436, 5.441466999129191, 5.5133319928932965, 5.5133319928932965, 5.5133319928932965, 414.1858252262536, 266.6136922441945, 108.43742717410707, 55.9573871201358, 39.751889851444794, 36.36504162223392, 23.911972928542074, 22.856509624654457, 16.06104341283622, 15.555994275989375, 15.020650233968434, 14.565349542460936, 13.487596889375773, 11.69731710078273, 11.039112115881883, 10.330569124558185, 10.066603650250899, 9.923475817167457, 9.406457093898748, 9.330582678110613, 8.613807837841877, 7.9088399410344765, 7.852561953366678, 7.509072966346894, 7.4568259825542444, 7.365595104852123, 7.216917690396252, 7.149195564625677, 6.88824475370355, 7.324602526392437, 7.3022820501838535, 421.56188858668304, 86.9080834230508, 40.335678970786155, 31.64495468381396, 29.802572655618, 25.154537974817398, 25.13198427633536, 21.22922141969861, 19.824809830715342, 16.784248131177893, 15.70465383741238, 15.076174137091831, 12.461555501103737, 11.694094986393836, 11.35800976561622, 10.578612867309825, 10.176620172489756, 9.710748554251746, 8.78803522480444, 53.13034736932379, 8.018258497846967, 7.637473528606642, 7.4676720770797, 7.455982347728378, 7.070573556560326, 6.982864896925158, 6.982864896925158, 6.711063204926328, 6.540790432060108, 6.504856482766765, 100.97321875011237, 85.84907483269293, 62.881502670867924, 61.0766588150508, 50.282349598821725, 49.483290202735304, 35.3768816539733, 27.592354787827347, 27.247331235617693, 26.192093831405455, 22.64231857694709, 21.09578017918028, 20.13270227447923, 19.73303460471838, 19.393180576979677, 19.393180576979677, 18.559269377463252, 17.210803734899613, 16.965351716883205, 15.916505384172613, 14.945284056525209, 14.12246868767929, 12.992268380528248, 12.002795453955189, 11.577892280893934, 10.972769225759237, 10.656166651842568, 10.092768685620529, 9.74963241046262, 8.658697454393801, 297.0507905192589, 93.31846452403236, 55.84984194639516, 50.33733082574366, 40.88606613677458, 35.247446007736336, 26.79217700126366, 17.468323120379697, 15.968349031316867, 14.816203452138092, 13.75687529204468, 13.413048693655051, 10.583980943229708, 10.517236313437987, 10.131173321960867, 8.428215183816743, 8.3933488450156, 8.054461437609156, 7.441735757812144, 7.375394887706509, 7.106256397812263, 6.870168931911159, 6.770466902133136, 6.249363796313169, 5.824079468788861, 5.585829004162155, 5.510550745172921, 5.510550745172921, 5.453926265141307, 5.512122495946305, 5.512122495946305, 445.2545904610559, 73.21987021857633, 42.04375003056327, 28.449792464514505, 25.453661303821747, 23.619543656775615, 21.00064235739537, 17.073525643146823, 15.865876338366826, 14.045508246172425, 12.794724045864825, 12.123896663513891, 11.485233058163917, 10.355194684926571, 9.276252611879713, 9.101239379748149, 8.984014810450768, 8.932157356884085, 8.916944225454403, 8.1901451111827, 8.145411981942475, 7.391324356522671, 7.223781195019019, 6.899345984177393, 6.4897676931511095, 5.772965862584276, 5.762454256653657, 5.63031292536003, 5.63031292536003, 5.383614557363777, 139.42218482181295, 61.403099578401644, 54.43562382326029, 46.41189022259796, 44.398251962379994, 32.67594541350833, 31.132072486743287, 28.315882648678038, 27.57946729335932, 23.630762425689106, 19.693643754473882, 19.428863629330014, 19.188958349489845, 16.50849071983833, 16.39538972323652, 14.638179833607442, 13.571426231395057, 13.223493435729004, 12.7790673984775, 9.865667152461002, 9.484759857944875, 8.110552576679659, 7.948218652264664, 7.543617191667074, 7.397053400055471, 7.344863603330846, 7.287084722267873, 7.25851138404741, 7.214636861558072, 7.204184693908312, 127.26264307565755, 100.6708191277396, 56.025563189203226, 48.17621207774791, 41.09324316614587, 36.898135487708736, 31.163733586072063, 24.457325978704006, 22.88728362377136, 16.808433266424665, 14.50763729501582, 14.290458679532456, 13.507976404835375, 12.297909019299432, 11.66594998546019, 11.55757312638195, 11.441566319970052, 10.959304544426054, 9.505458951480566, 8.567041762776354, 8.028771490380334, 6.195365847903876, 6.195365847903876, 6.196969749882749, 5.731542856186057, 5.20838334809274, 5.129671673558751, 5.078540056348204, 4.799281391378798, 4.799281391378798, 123.87893799847126, 82.82547068583807, 47.35393804974458, 31.355650962244262, 30.84017284444329, 23.31569008277738, 16.403762757312215, 15.306753803065277, 14.83327698508054, 14.332596422826875, 12.438541100659098, 12.275655210995867, 12.057080108886966, 12.057080108886966, 12.057080108886966, 12.0356937026869, 11.567065301279683, 11.518310175566286, 9.884472083543328, 9.66442896427536, 9.406608315266919, 8.50264563897016, 8.227071823558276, 7.34171961010107, 6.845716366812846, 6.822469783554509, 6.60738661061457, 6.506401914483775, 6.4854639965876695, 6.357726659566795, 53.32671436387386, 49.49863287954742, 37.158686941282106, 35.919312318287744, 35.13516700704753, 33.23086377321333, 29.78504567268719, 28.56933386472494, 22.595147705110765, 19.0777829398223, 14.535017049962498, 13.570324993626075, 13.056905001797283, 12.860876677341128, 11.643179383167462, 11.351592359477618, 10.4191103814868, 9.371253344481563, 9.022429342057327, 8.96474516927835, 8.051479680029791, 7.8061258677471566, 7.3749489297881325, 7.005415402982419, 6.898875663570705, 6.898875663570705, 6.540262952691059, 6.378990095688933, 6.328421901013668, 5.798409917991298, 99.45661815140842, 30.63751473504012, 30.333695996866634, 25.118284488193257, 22.21286029170744, 19.71534020483141, 19.099342035534363, 18.93789639999463, 18.49370197661375, 16.338643664388094, 15.987083894025151, 15.452325911712798, 14.661483961268042, 13.560903752595584, 12.629578938505501, 12.41179767127229, 10.883230392833221, 10.539767294706643, 9.260445600085571, 8.670689419882251, 8.135658260602584, 7.668161113453699, 7.536533328492117, 7.514334659317159, 7.262729639453783, 6.657593912560253, 6.36260221236074, 6.210442633274723, 6.099212847202285, 6.094662516538827, 47.72334143265361, 36.47780874435147, 33.42655493072092, 30.131075008474426, 28.81927356346614, 26.55038275329448, 22.750328857622723, 16.94050134265181, 15.953180913285255, 15.517345644982493, 15.179354849737527, 14.832250587303571, 14.795560351572265, 13.705835160168546, 12.461028940673971, 11.47315789850602, 10.501438162891775, 9.73553026153785, 9.498778144091435, 7.831022223775788, 7.723043973681342, 6.980684631500921, 6.791862775998413, 6.573569904969991, 6.243249692160167, 6.175523117377877, 6.0800850169999725, 5.96564758556042, 5.965115573329843, 5.965116030761325, 46.82327591055838, 124.67751725841086, 122.90837143249448, 18.020944931489346, 16.31858448058748, 16.172100969199306, 14.506845432687692, 11.857281529303235, 10.576311963351056, 9.559900663596585, 9.427088381759997, 9.316581662805813, 8.939979169092132, 8.350108600277496, 7.606678200962888, 7.4841019969075555, 7.2505584235924285, 7.085534793850661, 7.040740452418006, 6.886354560065898, 6.780188501282349, 6.413143325191563, 6.393931552082994, 6.148607318955885, 6.03884033339513, 5.883994821543021, 5.832581860297851, 5.25664774506059, 4.954823706115863, 4.933470520291785, 4.933470520291785, 111.38061009025579, 35.4836792374672, 25.984145923074884, 24.748281582001148, 24.35873588912687, 22.980153160829968, 20.678635879425517, 15.896266602223273, 14.21708224544384, 13.553732236758133, 12.195783444853626, 11.093278622275129, 10.750946022665785, 10.679172986384, 10.501413910809951, 10.136639074919415, 8.361898087564567, 8.361898087564567, 7.93715285624968, 7.879904768387948, 7.733326299724089, 7.690154493291396, 7.554787379786673, 7.501121754782538, 7.207247359117201, 6.833762767150251, 6.800260890716741, 6.57519656974627, 6.55358647875404, 6.240245553430743, 32.43922471642288, 26.425827000718947, 24.260970328001026, 19.758336095247568, 15.374848778867982, 15.332845186050776, 13.884385136769888, 13.289506305573891, 12.649348837955273, 12.44925909273497, 12.44925909273497, 11.87032696174898, 11.261868129138124, 10.594063558432314, 10.53241565271348, 10.214399609824063, 9.264707254646574, 8.981719934829052, 8.981719934829052, 8.981719934829052, 8.458605991797228, 8.402636254985474, 7.3875155186695105, 7.208986255912635, 7.045688007470994, 7.017481499633695, 6.5575589581772835, 6.34248464482095, 6.380263060190597, 6.380999422742496, 6.380999422742496, 44.64506049294489, 32.78177676531304, 29.741914218658927, 21.38900532910652, 21.184438664933726, 20.531328139764412, 19.614035060918003, 18.614157513011918, 15.71850072849074, 13.040897083081358, 11.983685585450067, 11.328756635408274, 10.826097621275991, 10.067105193267945, 9.4082592946699, 9.224068479825684, 8.871818650348976, 8.153542413994012, 8.116086933850633, 7.6716436256365625, 7.5355883358982885, 7.1105163015782695, 6.612414949368433, 6.56156319690382, 6.492689652079902, 6.314455985987512, 6.016297522352823, 6.040535640355633, 6.04043721863992, 6.041036935443852, 49.585751465074566, 24.758388677506716, 16.843544989201323, 16.348496656719394, 15.87568853755409, 15.533932172794378, 15.336885749711067, 14.39732858178995, 12.810576677216169, 12.458163982274101, 12.016635530875131, 10.4358919546439, 10.402176663679661, 10.05145650327286, 9.784345452957593, 9.61375522999175, 9.33639001482719, 9.241300781494939, 8.995499455384286, 8.743696763810748, 8.35206039612194, 7.74787248573069, 7.230621165062748, 6.798216492200998, 6.173005050815176, 6.153330014620468, 5.9850070319681015, 5.947087680453694, 5.761517187117278, 5.931586961461599, 174.20390361667873, 34.17955645167294, 21.99809704805029, 17.43260777160264, 12.771940119641489, 12.553819073705228, 10.681311598042843, 10.648900309820682, 10.628481016501588, 10.510688807921326, 10.031065095908017, 9.666044467487247, 9.66285405179536, 8.44411910124882, 8.374171660672928, 7.578675796617023, 6.832394669649075, 6.7002664989747025, 6.683408581157999, 5.967664329571116, 5.806822462711818, 5.97047591497128, 5.711603469470805, 5.694142849273446, 5.44719771807371, 5.205881421058204, 4.7256743081826365, 4.631742823750367, 4.631742823750367, 4.631742823750367, 46.82327591055838, 44.8459452479626, 32.321364668094894, 23.84646593143105, 21.89257889344134, 21.642779745566493, 21.62860784254789, 18.46768522003602, 16.814430738376988, 12.923048770576328, 12.868358352683737, 12.535026924807124, 12.469098356846555, 10.26950531531168, 10.099303934012333, 8.226267918601897, 8.159083481909958, 7.657807146224962, 7.590590395271728, 7.590506117903234, 7.1769964793666015, 6.85375856369645, 6.72248265364146, 6.305697749329196, 5.808631305463521, 5.6016269103335805, 5.581130998132821, 4.954094139910986, 4.6669108070464995, 4.517537266322583, 4.519583200895071], \"Category\": [\"Default\", \"Default\", \"Default\", \"Default\", \"Default\", \"Default\", \"Default\", \"Default\", \"Default\", \"Default\", \"Default\", \"Default\", \"Default\", \"Default\", \"Default\", \"Default\", \"Default\", \"Default\", \"Default\", \"Default\", \"Default\", \"Default\", \"Default\", \"Default\", \"Default\", \"Default\", \"Default\", \"Default\", \"Default\", \"Default\", \"Topic1\", \"Topic1\", \"Topic1\", \"Topic1\", \"Topic1\", \"Topic1\", \"Topic1\", \"Topic1\", \"Topic1\", \"Topic1\", \"Topic1\", \"Topic1\", \"Topic1\", \"Topic1\", \"Topic1\", \"Topic1\", \"Topic1\", \"Topic1\", \"Topic1\", \"Topic1\", \"Topic1\", \"Topic1\", \"Topic1\", \"Topic1\", \"Topic1\", \"Topic1\", \"Topic1\", \"Topic1\", \"Topic1\", \"Topic1\", \"Topic2\", \"Topic2\", \"Topic2\", \"Topic2\", \"Topic2\", \"Topic2\", \"Topic2\", \"Topic2\", \"Topic2\", \"Topic2\", \"Topic2\", \"Topic2\", \"Topic2\", \"Topic2\", \"Topic2\", \"Topic2\", \"Topic2\", \"Topic2\", \"Topic2\", \"Topic2\", \"Topic2\", \"Topic2\", \"Topic2\", \"Topic2\", \"Topic2\", \"Topic2\", \"Topic2\", \"Topic2\", \"Topic2\", \"Topic2\", \"Topic2\", \"Topic3\", \"Topic3\", \"Topic3\", \"Topic3\", \"Topic3\", \"Topic3\", \"Topic3\", \"Topic3\", \"Topic3\", \"Topic3\", \"Topic3\", \"Topic3\", \"Topic3\", \"Topic3\", \"Topic3\", \"Topic3\", \"Topic3\", \"Topic3\", \"Topic3\", \"Topic3\", \"Topic3\", \"Topic3\", \"Topic3\", \"Topic3\", \"Topic3\", \"Topic3\", \"Topic3\", \"Topic3\", \"Topic3\", \"Topic3\", \"Topic3\", \"Topic4\", \"Topic4\", \"Topic4\", \"Topic4\", \"Topic4\", \"Topic4\", \"Topic4\", \"Topic4\", \"Topic4\", \"Topic4\", \"Topic4\", \"Topic4\", \"Topic4\", \"Topic4\", \"Topic4\", \"Topic4\", \"Topic4\", \"Topic4\", \"Topic4\", \"Topic4\", \"Topic4\", \"Topic4\", \"Topic4\", \"Topic4\", \"Topic4\", \"Topic4\", \"Topic4\", \"Topic4\", \"Topic4\", \"Topic4\", \"Topic5\", \"Topic5\", \"Topic5\", \"Topic5\", \"Topic5\", \"Topic5\", \"Topic5\", \"Topic5\", \"Topic5\", \"Topic5\", \"Topic5\", \"Topic5\", \"Topic5\", \"Topic5\", \"Topic5\", \"Topic5\", \"Topic5\", \"Topic5\", \"Topic5\", \"Topic5\", \"Topic5\", \"Topic5\", \"Topic5\", \"Topic5\", \"Topic5\", \"Topic5\", \"Topic5\", \"Topic5\", \"Topic5\", \"Topic5\", \"Topic6\", \"Topic6\", \"Topic6\", \"Topic6\", \"Topic6\", \"Topic6\", \"Topic6\", \"Topic6\", \"Topic6\", \"Topic6\", \"Topic6\", \"Topic6\", \"Topic6\", \"Topic6\", \"Topic6\", \"Topic6\", \"Topic6\", \"Topic6\", \"Topic6\", \"Topic6\", \"Topic6\", \"Topic6\", \"Topic6\", \"Topic6\", \"Topic6\", \"Topic6\", \"Topic6\", \"Topic6\", \"Topic6\", \"Topic6\", \"Topic6\", \"Topic7\", \"Topic7\", \"Topic7\", \"Topic7\", \"Topic7\", \"Topic7\", \"Topic7\", \"Topic7\", \"Topic7\", \"Topic7\", \"Topic7\", \"Topic7\", \"Topic7\", \"Topic7\", \"Topic7\", \"Topic7\", \"Topic7\", \"Topic7\", \"Topic7\", \"Topic7\", \"Topic7\", \"Topic7\", \"Topic7\", \"Topic7\", \"Topic7\", \"Topic7\", \"Topic7\", \"Topic7\", \"Topic7\", \"Topic7\", \"Topic8\", \"Topic8\", \"Topic8\", \"Topic8\", \"Topic8\", \"Topic8\", \"Topic8\", \"Topic8\", \"Topic8\", \"Topic8\", \"Topic8\", \"Topic8\", \"Topic8\", \"Topic8\", \"Topic8\", \"Topic8\", \"Topic8\", \"Topic8\", \"Topic8\", \"Topic8\", \"Topic8\", \"Topic8\", \"Topic8\", \"Topic8\", \"Topic8\", \"Topic8\", \"Topic8\", \"Topic8\", \"Topic8\", \"Topic8\", \"Topic9\", \"Topic9\", \"Topic9\", \"Topic9\", \"Topic9\", \"Topic9\", \"Topic9\", \"Topic9\", \"Topic9\", \"Topic9\", \"Topic9\", \"Topic9\", \"Topic9\", \"Topic9\", \"Topic9\", \"Topic9\", \"Topic9\", \"Topic9\", \"Topic9\", \"Topic9\", \"Topic9\", \"Topic9\", \"Topic9\", \"Topic9\", \"Topic9\", \"Topic9\", \"Topic9\", \"Topic9\", \"Topic9\", \"Topic9\", \"Topic10\", \"Topic10\", \"Topic10\", \"Topic10\", \"Topic10\", \"Topic10\", \"Topic10\", \"Topic10\", \"Topic10\", \"Topic10\", \"Topic10\", \"Topic10\", \"Topic10\", \"Topic10\", \"Topic10\", \"Topic10\", \"Topic10\", \"Topic10\", \"Topic10\", \"Topic10\", \"Topic10\", \"Topic10\", \"Topic10\", \"Topic10\", \"Topic10\", \"Topic10\", \"Topic10\", \"Topic10\", \"Topic10\", \"Topic10\", \"Topic11\", \"Topic11\", \"Topic11\", \"Topic11\", \"Topic11\", \"Topic11\", \"Topic11\", \"Topic11\", \"Topic11\", \"Topic11\", \"Topic11\", \"Topic11\", \"Topic11\", \"Topic11\", \"Topic11\", \"Topic11\", \"Topic11\", \"Topic11\", \"Topic11\", \"Topic11\", \"Topic11\", \"Topic11\", \"Topic11\", \"Topic11\", \"Topic11\", \"Topic11\", \"Topic11\", \"Topic11\", \"Topic11\", \"Topic11\", \"Topic12\", \"Topic12\", \"Topic12\", \"Topic12\", \"Topic12\", \"Topic12\", \"Topic12\", \"Topic12\", \"Topic12\", \"Topic12\", \"Topic12\", \"Topic12\", \"Topic12\", \"Topic12\", \"Topic12\", \"Topic12\", \"Topic12\", \"Topic12\", \"Topic12\", \"Topic12\", \"Topic12\", \"Topic12\", \"Topic12\", \"Topic12\", \"Topic12\", \"Topic12\", \"Topic12\", \"Topic12\", \"Topic12\", \"Topic12\", \"Topic13\", \"Topic13\", \"Topic13\", \"Topic13\", \"Topic13\", \"Topic13\", \"Topic13\", \"Topic13\", \"Topic13\", \"Topic13\", \"Topic13\", \"Topic13\", \"Topic13\", \"Topic13\", \"Topic13\", \"Topic13\", \"Topic13\", \"Topic13\", \"Topic13\", \"Topic13\", \"Topic13\", \"Topic13\", \"Topic13\", \"Topic13\", \"Topic13\", \"Topic13\", \"Topic13\", \"Topic13\", \"Topic13\", \"Topic13\", \"Topic13\", \"Topic14\", \"Topic14\", \"Topic14\", \"Topic14\", \"Topic14\", \"Topic14\", \"Topic14\", \"Topic14\", \"Topic14\", \"Topic14\", \"Topic14\", \"Topic14\", \"Topic14\", \"Topic14\", \"Topic14\", \"Topic14\", \"Topic14\", \"Topic14\", \"Topic14\", \"Topic14\", \"Topic14\", \"Topic14\", \"Topic14\", \"Topic14\", \"Topic14\", \"Topic14\", \"Topic14\", \"Topic14\", \"Topic14\", \"Topic14\", \"Topic15\", \"Topic15\", \"Topic15\", \"Topic15\", \"Topic15\", \"Topic15\", \"Topic15\", \"Topic15\", \"Topic15\", \"Topic15\", \"Topic15\", \"Topic15\", \"Topic15\", \"Topic15\", \"Topic15\", \"Topic15\", \"Topic15\", \"Topic15\", \"Topic15\", \"Topic15\", \"Topic15\", \"Topic15\", \"Topic15\", \"Topic15\", \"Topic15\", \"Topic15\", \"Topic15\", \"Topic15\", \"Topic15\", \"Topic15\", \"Topic16\", \"Topic16\", \"Topic16\", \"Topic16\", \"Topic16\", \"Topic16\", \"Topic16\", \"Topic16\", \"Topic16\", \"Topic16\", \"Topic16\", \"Topic16\", \"Topic16\", \"Topic16\", \"Topic16\", \"Topic16\", \"Topic16\", \"Topic16\", \"Topic16\", \"Topic16\", \"Topic16\", \"Topic16\", \"Topic16\", \"Topic16\", \"Topic16\", \"Topic16\", \"Topic16\", \"Topic16\", \"Topic16\", \"Topic16\", \"Topic16\", \"Topic17\", \"Topic17\", \"Topic17\", \"Topic17\", \"Topic17\", \"Topic17\", \"Topic17\", \"Topic17\", \"Topic17\", \"Topic17\", \"Topic17\", \"Topic17\", \"Topic17\", \"Topic17\", \"Topic17\", \"Topic17\", \"Topic17\", \"Topic17\", \"Topic17\", \"Topic17\", \"Topic17\", \"Topic17\", \"Topic17\", \"Topic17\", \"Topic17\", \"Topic17\", \"Topic17\", \"Topic17\", \"Topic17\", \"Topic17\", \"Topic18\", \"Topic18\", \"Topic18\", \"Topic18\", \"Topic18\", \"Topic18\", \"Topic18\", \"Topic18\", \"Topic18\", \"Topic18\", \"Topic18\", \"Topic18\", \"Topic18\", \"Topic18\", \"Topic18\", \"Topic18\", \"Topic18\", \"Topic18\", \"Topic18\", \"Topic18\", \"Topic18\", \"Topic18\", \"Topic18\", \"Topic18\", \"Topic18\", \"Topic18\", \"Topic18\", \"Topic18\", \"Topic18\", \"Topic18\", \"Topic19\", \"Topic19\", \"Topic19\", \"Topic19\", \"Topic19\", \"Topic19\", \"Topic19\", \"Topic19\", \"Topic19\", \"Topic19\", \"Topic19\", \"Topic19\", \"Topic19\", \"Topic19\", \"Topic19\", \"Topic19\", \"Topic19\", \"Topic19\", \"Topic19\", \"Topic19\", \"Topic19\", \"Topic19\", \"Topic19\", \"Topic19\", \"Topic19\", \"Topic19\", \"Topic19\", \"Topic19\", \"Topic19\", \"Topic19\", \"Topic19\", \"Topic20\", \"Topic20\", \"Topic20\", \"Topic20\", \"Topic20\", \"Topic20\", \"Topic20\", \"Topic20\", \"Topic20\", \"Topic20\", \"Topic20\", \"Topic20\", \"Topic20\", \"Topic20\", \"Topic20\", \"Topic20\", \"Topic20\", \"Topic20\", \"Topic20\", \"Topic20\", \"Topic20\", \"Topic20\", \"Topic20\", \"Topic20\", \"Topic20\", \"Topic20\", \"Topic20\", \"Topic20\", \"Topic20\", \"Topic20\"], \"logprob\": [30.0, 29.0, 28.0, 27.0, 26.0, 25.0, 24.0, 23.0, 22.0, 21.0, 20.0, 19.0, 18.0, 17.0, 16.0, 15.0, 14.0, 13.0, 12.0, 11.0, 10.0, 9.0, 8.0, 7.0, 6.0, 5.0, 4.0, 3.0, 2.0, 1.0, -2.6313, -3.0013, -3.3524, -3.5523, -3.6985, -3.705, -3.7059, -3.8201, -3.9541, -3.9926, -3.9949, -4.018, -4.0625, -4.0844, -4.109, -4.1688, -4.1915, -4.2525, -4.2551, -4.2577, -4.2706, -4.3806, -4.4724, -4.4885, -4.5057, -4.5365, -4.5441, -4.5541, -4.5742, -4.6131, -0.494, -3.4055, -3.5542, -3.9594, -4.0257, -4.0272, -4.422, -4.7446, -4.7609, -4.852, -4.8999, -4.9035, -5.06, -5.1063, -5.1625, -5.2424, -5.3102, -5.3254, -5.4486, -5.4493, -5.4493, -5.4493, -5.5977, -5.6901, -5.8517, -5.9074, -5.9784, -6.0, -5.9892, -5.9892, -5.9892, -1.2888, -1.7305, -2.6346, -3.3034, -3.6514, -3.7424, -4.1737, -4.2205, -4.5892, -4.6229, -4.6599, -4.6925, -4.7742, -4.9265, -4.989, -5.0608, -5.089, -5.1046, -5.1631, -5.1719, -5.2599, -5.3547, -5.3629, -5.4128, -5.4206, -5.435, -5.4574, -5.4681, -5.5102, -5.4501, -5.4555, -1.0534, -2.6403, -3.4192, -3.6677, -3.7294, -3.9043, -3.9053, -4.0804, -4.1518, -4.3263, -4.3965, -4.4397, -4.6426, -4.7109, -4.7424, -4.8194, -4.8615, -4.9127, -5.0226, -3.232, -5.1245, -5.179, -5.2043, -5.2061, -5.2661, -5.282, -5.282, -5.3255, -5.355, -5.3613, -2.4646, -2.6284, -2.9433, -2.9728, -3.1703, -3.1866, -3.5291, -3.7845, -3.7975, -3.8383, -3.9891, -4.0627, -4.1114, -4.1323, -4.1505, -4.1505, -4.1965, -4.2756, -4.2907, -4.358, -4.4246, -4.4847, -4.5736, -4.6585, -4.6973, -4.7553, -4.7871, -4.8462, -4.884, -5.0146, -1.3204, -2.4846, -3.0042, -3.1098, -3.3218, -3.4736, -3.7557, -4.2011, -4.2957, -4.375, -4.4539, -4.4809, -4.7361, -4.743, -4.7838, -4.9865, -4.9911, -5.0371, -5.126, -5.1361, -5.1783, -5.2168, -5.2335, -5.3256, -5.4077, -5.4568, -5.4736, -5.4736, -5.4851, -5.4745, -5.4745, -0.8946, -2.7095, -3.2731, -3.6736, -3.7885, -3.866, -3.9881, -4.2049, -4.2823, -4.4115, -4.5111, -4.569, -4.6273, -4.7396, -4.8601, -4.8811, -4.8954, -4.9018, -4.9037, -4.9982, -5.0043, -5.1134, -5.1394, -5.1916, -5.2617, -5.3977, -5.3998, -5.4279, -5.4279, -5.4801, -2.0441, -2.8717, -2.9938, -3.156, -3.2011, -3.5145, -3.5642, -3.6617, -3.6888, -3.8485, -4.038, -4.0521, -4.0651, -4.2228, -4.2301, -4.3498, -4.4301, -4.4578, -4.4943, -4.7735, -4.8174, -4.9893, -5.0118, -5.0703, -5.0923, -5.1003, -5.1092, -5.1136, -5.1238, -5.1283, -1.9735, -2.2096, -2.8025, -2.9559, -3.118, -3.2281, -3.4013, -3.6513, -3.7202, -4.0429, -4.1985, -4.2145, -4.2745, -4.375, -4.4317, -4.4418, -4.4527, -4.4993, -4.6545, -4.7692, -4.8415, -5.1368, -5.1368, -5.1409, -5.227, -5.3403, -5.3585, -5.3705, -5.4412, -5.4412, -1.9931, -2.3991, -2.966, -3.3876, -3.4047, -3.6935, -4.0612, -4.1343, -4.1676, -4.2041, -4.3554, -4.3696, -4.3889, -4.3889, -4.3889, -4.3908, -4.4336, -4.4381, -4.6043, -4.629, -4.6587, -4.7703, -4.807, -4.9348, -5.0142, -5.0181, -5.0548, -5.0725, -5.0762, -5.0991, -2.7919, -2.8677, -3.1602, -3.1949, -3.2175, -3.2746, -3.3871, -3.43, -3.6727, -3.8491, -4.1356, -4.2086, -4.2498, -4.266, -4.3728, -4.4002, -4.4931, -4.6089, -4.6507, -4.6578, -4.7772, -4.8117, -4.8756, -4.9338, -4.9548, -4.9548, -5.0123, -5.041, -5.0501, -5.1517, -2.1427, -3.3397, -3.35, -3.5446, -3.6721, -3.7964, -3.8296, -3.8385, -3.8634, -3.9936, -4.0166, -4.0526, -4.1082, -4.1913, -4.2673, -4.286, -4.4278, -4.4626, -4.6042, -4.6768, -4.7477, -4.814, -4.8335, -4.8368, -4.8753, -4.9744, -5.0265, -5.0544, -5.0754, -5.0801, -2.8158, -3.0901, -3.1796, -3.2863, -3.3321, -3.4167, -3.5767, -3.885, -3.9483, -3.9776, -4.0009, -4.0254, -4.028, -4.1094, -4.2112, -4.3001, -4.3961, -4.4787, -4.5057, -4.7199, -4.7355, -4.8499, -4.881, -4.9185, -4.9779, -4.9905, -5.0086, -5.035, -5.0358, -5.0358, -3.0089, -1.8424, -1.8568, -3.8178, -3.9222, -3.9317, -4.0467, -4.2626, -4.386, -4.4963, -4.5117, -4.5247, -4.5701, -4.6458, -4.7501, -4.7684, -4.8042, -4.8304, -4.8376, -4.8628, -4.8805, -4.9444, -4.9479, -4.9931, -5.014, -5.0442, -5.0545, -5.1772, -5.2481, -5.2579, -5.2579, -1.9517, -3.1121, -3.4326, -3.483, -3.4995, -3.5599, -3.6697, -3.9456, -4.0639, -4.1148, -4.2278, -4.33, -4.364, -4.3713, -4.3895, -4.428, -4.6401, -4.6401, -4.6982, -4.7063, -4.7274, -4.7337, -4.7537, -4.7617, -4.8069, -4.8674, -4.873, -4.9115, -4.9153, -4.9718, -3.1016, -3.3127, -3.4012, -3.6147, -3.8784, -3.8813, -3.9866, -4.0333, -4.0862, -4.1033, -4.1033, -4.1545, -4.2112, -4.2775, -4.2838, -4.3172, -4.4241, -4.4585, -4.4585, -4.4585, -4.5247, -4.5322, -4.6763, -4.704, -4.73, -4.7346, -4.812, -4.8504, -4.848, -4.8493, -4.8493, -2.7548, -3.0707, -3.1707, -3.5119, -3.522, -3.5546, -3.6023, -3.6571, -3.835, -4.0335, -4.1242, -4.1848, -4.234, -4.3131, -4.3873, -4.409, -4.452, -4.5458, -4.5509, -4.614, -4.6342, -4.6998, -4.7827, -4.7916, -4.8037, -4.8358, -4.8919, -4.8908, -4.8927, -4.8975, -2.6306, -3.3428, -3.7448, -3.7762, -3.8072, -3.8302, -3.8437, -3.9108, -4.0354, -4.0653, -4.104, -4.2567, -4.2602, -4.2976, -4.327, -4.3463, -4.3785, -4.3897, -4.4195, -4.4509, -4.5018, -4.5857, -4.6637, -4.734, -4.8448, -4.8485, -4.8808, -4.8883, -4.9253, -4.8969, -1.361, -3.0099, -3.4647, -3.7079, -4.0379, -4.0563, -4.2306, -4.2339, -4.236, -4.2482, -4.2991, -4.3396, -4.34, -4.4888, -4.4982, -4.6098, -4.7273, -4.7496, -4.7525, -4.884, -4.9153, -4.888, -4.9347, -4.9383, -4.9906, -5.0445, -5.1613, -5.1867, -5.1867, -5.1867, -4.519, -2.6796, -3.0146, -3.3283, -3.4171, -3.4291, -3.4298, -3.5948, -3.6933, -3.9727, -3.9773, -4.0054, -4.011, -4.2209, -4.2391, -4.4654, -4.4746, -4.5456, -4.5555, -4.5556, -4.619, -4.6713, -4.6934, -4.767, -4.8639, -4.9052, -4.9095, -5.0517, -5.1243, -5.1683, -5.1686], \"loglift\": [30.0, 29.0, 28.0, 27.0, 26.0, 25.0, 24.0, 23.0, 22.0, 21.0, 20.0, 19.0, 18.0, 17.0, 16.0, 15.0, 14.0, 13.0, 12.0, 11.0, 10.0, 9.0, 8.0, 7.0, 6.0, 5.0, 4.0, 3.0, 2.0, 1.0, 2.374, 2.3712, 2.3674, 2.3646, 2.3622, 2.3621, 2.3621, 2.3599, 2.357, 2.3561, 2.356, 2.3555, 2.3544, 2.3538, 2.3532, 2.3515, 2.3509, 2.349, 2.349, 2.3489, 2.3485, 2.3449, 2.3415, 2.3409, 2.3402, 2.339, 2.3387, 2.3383, 2.3375, 2.3358, 2.3815, 2.3687, 2.3666, 2.3588, 2.3572, 2.3572, 2.3453, 2.3316, 2.3308, 2.326, 2.3233, 2.3231, 2.3134, 2.3103, 2.3063, 2.3002, 2.2947, 2.2934, 2.2823, 2.282, 2.282, 2.282, 2.2671, 2.2499, 2.2362, 2.2284, 2.218, 2.2147, 2.2123, 2.2123, 2.2123, 2.5935, 2.5924, 2.5879, 2.5807, 2.5746, 2.5727, 2.5606, 2.5589, 2.5431, 2.5413, 2.5393, 2.5375, 2.5327, 2.5228, 2.5183, 2.5127, 2.5105, 2.5092, 2.5042, 2.5035, 2.4954, 2.486, 2.4849, 2.4798, 2.4789, 2.4768, 2.4748, 2.4736, 2.4687, 2.4674, 2.465, 2.8113, 2.8036, 2.7922, 2.7864, 2.7847, 2.7793, 2.7793, 2.7729, 2.7699, 2.7619, 2.7583, 2.7559, 2.7434, 2.7387, 2.7364, 2.7305, 2.727, 2.7227, 2.7127, 2.7039, 2.7025, 2.6966, 2.6938, 2.6936, 2.6867, 2.6832, 2.6832, 2.6794, 2.6757, 2.6748, 2.8292, 2.8277, 2.8241, 2.8237, 2.8207, 2.8204, 2.8135, 2.8066, 2.8062, 2.805, 2.7998, 2.7969, 2.7949, 2.7941, 2.7933, 2.7933, 2.7912, 2.7875, 2.7868, 2.7833, 2.7797, 2.7762, 2.7707, 2.765, 2.7623, 2.7579, 2.7555, 2.7507, 2.7475, 2.7355, 2.8943, 2.888, 2.8818, 2.8801, 2.8761, 2.8727, 2.8649, 2.8472, 2.8423, 2.8379, 2.8332, 2.8315, 2.8132, 2.8127, 2.8093, 2.7906, 2.7901, 2.7853, 2.7755, 2.7744, 2.7694, 2.7647, 2.7626, 2.7506, 2.739, 2.7316, 2.7284, 2.7284, 2.7273, 2.7272, 2.7272, 2.9154, 2.9057, 2.8969, 2.887, 2.8833, 2.8806, 2.876, 2.8662, 2.8622, 2.8548, 2.8485, 2.8445, 2.8403, 2.8316, 2.8211, 2.8191, 2.8178, 2.8172, 2.817, 2.8076, 2.807, 2.795, 2.7919, 2.7856, 2.7767, 2.7578, 2.7575, 2.7526, 2.7526, 2.7452, 2.9271, 2.9196, 2.9178, 2.9152, 2.9143, 2.9076, 2.9063, 2.9036, 2.9028, 2.8976, 2.8904, 2.8898, 2.8893, 2.882, 2.8816, 2.8753, 2.8706, 2.8689, 2.8666, 2.8461, 2.8416, 2.8262, 2.8239, 2.8177, 2.8153, 2.8144, 2.8134, 2.8129, 2.8088, 2.8057, 3.089, 3.0872, 3.0804, 3.0779, 3.0748, 3.0724, 3.0681, 3.0604, 3.0579, 3.0439, 3.0355, 3.0345, 3.0309, 3.0243, 3.0203, 3.0195, 3.0187, 3.0152, 3.0023, 2.9915, 2.9841, 2.9481, 2.9481, 2.9437, 2.9357, 2.9181, 2.9152, 2.9132, 2.899, 2.899, 3.0962, 3.0928, 3.085, 3.0757, 3.0752, 3.066, 3.05, 3.0461, 3.0442, 3.0421, 3.0325, 3.0315, 3.0301, 3.0301, 3.0301, 3.03, 3.0269, 3.0266, 3.0134, 3.0112, 3.0086, 2.998, 2.9943, 2.9803, 2.9708, 2.9703, 2.9657, 2.9634, 2.9629, 2.9599, 3.1403, 3.1391, 3.1333, 3.1325, 3.132, 3.1305, 3.1275, 3.1263, 3.1182, 3.1111, 3.0966, 3.0922, 3.0896, 3.0885, 3.0812, 3.0792, 3.072, 3.0621, 3.0583, 3.0576, 3.0457, 3.0421, 3.035, 3.0282, 3.0225, 3.0225, 3.0184, 3.0147, 3.0135, 2.9994, 3.1662, 3.1467, 3.1464, 3.1404, 3.1359, 3.1308, 3.1294, 3.129, 3.1279, 3.1215, 3.1203, 3.1184, 3.1152, 3.1102, 3.1053, 3.104, 3.0937, 3.0909, 3.0788, 3.0719, 3.0647, 3.0576, 3.0554, 3.0551, 3.0506, 3.0386, 3.0318, 3.028, 3.0251, 3.0211, 3.2275, 3.2219, 3.2197, 3.2168, 3.2155, 3.2129, 3.2074, 3.194, 3.1907, 3.1892, 3.1879, 3.1865, 3.1863, 3.1815, 3.1749, 3.1686, 3.1611, 3.1542, 3.1518, 3.1307, 3.129, 3.1156, 3.1119, 3.1072, 3.0993, 3.0975, 3.095, 3.0877, 3.0869, 3.0869, 3.0534, 3.2406, 3.2405, 3.1993, 3.1942, 3.1937, 3.1873, 3.1732, 3.164, 3.1547, 3.1534, 3.1522, 3.148, 3.1406, 3.1295, 3.1275, 3.1233, 3.1203, 3.1194, 3.1163, 3.1141, 3.106, 3.1054, 3.0994, 3.0965, 3.0922, 3.0907, 3.072, 3.0602, 3.0547, 3.0547, 3.2441, 3.2275, 3.2186, 3.2169, 3.2163, 3.2141, 3.2099, 3.197, 3.1903, 3.1872, 3.1797, 3.1723, 3.1697, 3.1691, 3.1676, 3.1645, 3.1449, 3.1449, 3.1389, 3.138, 3.1357, 3.135, 3.1328, 3.1319, 3.1267, 3.1194, 3.1187, 3.1138, 3.1134, 3.1059, 3.3277, 3.3216, 3.3186, 3.3104, 3.2975, 3.2974, 3.2913, 3.2884, 3.2849, 3.2838, 3.2838, 3.2802, 3.276, 3.2709, 3.2704, 3.2677, 3.2584, 3.255, 3.255, 3.255, 3.2488, 3.2479, 3.2325, 3.2293, 3.2262, 3.2257, 3.216, 3.211, 3.2075, 3.2061, 3.2061, 3.3551, 3.3481, 3.3454, 3.3338, 3.3334, 3.3321, 3.3301, 3.3277, 3.3188, 3.3071, 3.3009, 3.2965, 3.2927, 3.2863, 3.2798, 3.2778, 3.2738, 3.2645, 3.2639, 3.2571, 3.2549, 3.2473, 3.237, 3.2359, 3.2343, 3.23, 3.2223, 3.2193, 3.2175, 3.2126, 3.3744, 3.3567, 3.3399, 3.3383, 3.3367, 3.3354, 3.3347, 3.3308, 3.3231, 3.321, 3.3184, 3.3067, 3.3065, 3.3034, 3.3009, 3.2992, 3.2963, 3.2953, 3.2925, 3.2895, 3.2844, 3.2756, 3.2667, 3.258, 3.2436, 3.2431, 3.2386, 3.2375, 3.2322, 3.2315, 3.3875, 3.3672, 3.353, 3.3424, 3.3236, 3.3223, 3.3095, 3.3093, 3.3091, 3.3081, 3.3039, 3.3004, 3.3004, 3.2864, 3.2854, 3.2736, 3.2597, 3.2569, 3.2565, 3.2383, 3.2343, 3.2339, 3.2314, 3.2309, 3.2229, 3.2143, 3.1943, 3.1891, 3.1891, 3.1891, 1.5433, 3.4259, 3.4183, 3.4087, 3.4054, 3.4049, 3.4049, 3.3979, 3.3931, 3.377, 3.3767, 3.3748, 3.3744, 3.3586, 3.3571, 3.3359, 3.335, 3.3273, 3.3262, 3.3262, 3.3188, 3.3126, 3.3098, 3.3002, 3.2854, 3.2804, 3.2798, 3.2567, 3.2439, 3.2324, 3.2316]}, \"token.table\": {\"Topic\": [19, 11, 4, 5, 11, 8, 17, 1, 12, 14, 4, 15, 15, 2, 14, 10, 10, 13, 5, 6, 14, 1, 13, 16, 18, 13, 8, 5, 6, 4, 2, 11, 7, 17, 20, 3, 20, 10, 7, 7, 1, 15, 17, 4, 3, 12, 8, 10, 8, 5, 6, 9, 14, 8, 5, 4, 16, 14, 17, 15, 8, 5, 13, 10, 19, 9, 6, 2, 13, 20, 2, 6, 1, 20, 5, 12, 2, 5, 9, 13, 17, 15, 12, 5, 10, 20, 8, 16, 2, 18, 2, 11, 10, 3, 3, 8, 12, 6, 9, 7, 10, 16, 4, 15, 14, 11, 3, 8, 14, 13, 8, 19, 9, 7, 11, 6, 10, 15, 18, 6, 11, 3, 5, 14, 11, 1, 14, 5, 17, 19, 13, 15, 2, 2, 18, 17, 15, 6, 6, 2, 18, 9, 3, 18, 10, 7, 7, 11, 7, 12, 13, 9, 13, 19, 14, 8, 5, 19, 19, 12, 10, 12, 3, 15, 20, 4, 1, 4, 19, 11, 6, 4, 6, 12, 15, 16, 18, 13, 6, 10, 6, 5, 4, 20, 4, 20, 2, 19, 14, 18, 6, 5, 1, 19, 18, 1, 2, 20, 19, 3, 14, 3, 6, 9, 20, 11, 3, 5, 20, 10, 19, 4, 8, 18, 14, 10, 14, 2, 17, 9, 16, 14, 12, 16, 11, 4, 6, 12, 4, 9, 16, 19, 12, 3, 17, 18, 17, 5, 6, 8, 17, 12, 1, 8, 8, 7, 9, 7, 10, 1, 3, 12, 12, 1, 20, 4, 13, 16, 14, 9, 10, 6, 9, 19, 16, 1, 17, 5, 13, 6, 3, 6, 14, 5, 12, 13, 15, 17, 3, 20, 15, 8, 7, 12, 18, 11, 2, 12, 13, 19, 20, 9, 5, 14, 16, 19, 11, 17, 20, 19, 1, 13, 3, 9, 19, 5, 20, 18, 19, 1, 9, 15, 19, 5, 6, 14, 15, 18, 10, 16, 13, 19, 11, 12, 16, 8, 16, 14, 11, 9, 17, 4, 12, 16, 16, 16, 7, 16, 17, 14, 13, 13, 13, 3, 13, 13, 2, 8, 18, 2, 8, 3, 1, 14, 7, 2, 7, 7, 10, 18, 16, 9, 2, 2, 17, 7, 16, 20, 12, 4, 17, 4, 18, 13, 8, 3, 18, 3, 16, 7, 19, 19, 12, 18, 20, 15, 1, 5, 12, 1, 14, 4, 18, 4, 8, 7, 7, 15, 2, 18, 10, 2, 3, 18, 10, 17, 8, 16, 17, 15, 3, 1, 5, 18, 10, 18, 7, 11, 12, 14, 5, 13, 15, 9, 3, 3, 15, 3, 19, 6, 4, 6, 19, 16, 6, 19, 18, 13, 11, 2, 11, 14, 4, 11, 15, 12, 17, 1, 9, 17, 15, 11, 16, 19, 17, 7, 7, 6, 1, 16, 7, 18, 15, 4, 10, 4, 4, 12, 1, 1, 11, 17, 2, 15, 16, 1, 1, 4, 3, 11, 10, 2, 18, 13, 11, 12, 19, 14, 3, 19, 3, 4, 2, 20, 12, 15, 5, 3, 14, 3, 20, 16, 12, 6, 12, 11, 4, 20, 15, 2, 8, 2, 2, 1, 10, 7, 6, 17, 14, 15, 17, 10, 5, 7, 5, 15, 17, 11, 11, 1, 18, 16, 9, 18, 16, 2, 7, 8, 15, 9, 7, 1, 9, 20, 9, 9, 5, 2, 13, 17, 20, 19, 9, 13, 8, 8, 8, 8, 8, 15, 1, 3, 20, 10, 8, 20, 9, 10, 13, 7, 16, 1, 10, 11, 2, 14, 19, 5, 6, 6, 13, 9, 20, 14, 10, 9, 4, 20, 1, 20, 11, 4, 10, 5, 15, 17, 6, 20, 11, 16, 13, 17, 20, 9, 7, 18, 7], \"Freq\": [0.9930891122891952, 0.9690270449868588, 0.9406456859465038, 0.9480569019077227, 0.8697069337954314, 0.9122545754804772, 0.8585225469589542, 0.950979301720918, 0.9637165680429847, 0.8948566712166526, 0.9986671266974184, 0.9567205814068979, 0.9567205814068979, 0.9068926025940424, 0.8467956441632654, 0.8794469144389523, 0.9408836190154292, 0.9223053376502415, 0.9384237621950939, 0.9167707366998028, 0.9546956213345417, 0.9871618269931437, 0.924448875225245, 0.9149746175774742, 0.8298042260865608, 0.8382066625721365, 0.946322761431938, 0.9903616150682403, 0.9964625897227135, 0.8592461816985814, 0.9067430426334466, 0.8923845406577228, 0.8661059356692165, 0.8276724763366532, 0.8911505247099151, 0.9959660867515352, 0.8925978256024636, 0.8172472279852432, 0.8676858465690579, 0.9656988887477309, 0.9569894144249398, 0.8779936038812862, 0.9761520929475594, 0.9223877599599198, 0.8940453317416232, 0.8261356676979718, 0.9969718963854102, 0.9900336131023133, 0.8266157731992626, 0.9430986322598589, 0.9449820343663095, 0.9623943372707152, 0.9355786539856845, 0.8328492750988822, 0.9239264961198582, 0.9388434244526742, 0.9475445408283485, 0.8586840420170474, 0.9179146032799456, 0.9591454053329758, 0.9733075719553, 0.9542218933358441, 0.9127460552999763, 0.9123270228496019, 0.8610561166812344, 0.8723654564675369, 0.9646088965577098, 0.9067430426334466, 0.8382067268495358, 0.9140998025068784, 0.9825182407311306, 0.9073503232648482, 0.9860782082245992, 0.9515635854077329, 0.9823720086209843, 0.901226490951989, 0.9775698852215359, 0.9296486234141188, 0.8944610000559778, 0.9444820832849928, 0.9818128368701112, 0.9863689660187075, 0.9226486629374209, 0.9744970231293294, 0.9070233763992329, 0.9222046450222278, 0.8807004822401947, 0.8515846846522037, 0.9066589007370717, 0.8893336095097615, 0.999470555646936, 0.9190539410639964, 0.9727571940442392, 0.9828907822647193, 0.9069402864296945, 0.991125329724291, 0.8638893143463934, 0.8443264166273489, 0.9124666587613025, 0.9255628042895964, 0.9647433652298772, 0.890698001947025, 0.9034384749329545, 0.09410817447218277, 0.9433467592642507, 0.9405877591901164, 0.8191570775861828, 0.953046969698055, 0.9202440033698164, 0.8938807476177607, 0.9074757784941152, 0.9408682185605055, 0.8334581104549131, 0.9245323228336849, 0.8697069337954314, 0.9070915974158906, 0.8764605015024036, 0.8878682503620213, 0.9613372588562252, 0.8690835575069614, 0.9629602233148841, 0.9339368317759343, 0.9424179264197035, 0.8131922792638295, 0.9744061826645916, 0.9545211942740193, 0.852183096443985, 0.8917275606269042, 0.9144162480719834, 0.9546280277848509, 0.9063783689248257, 0.8324953621038097, 0.9508833125201696, 0.9068926025940424, 0.9175155560150451, 0.9017316871874198, 0.9301507029165066, 0.9531356491575838, 0.8733409701369463, 0.9588601722503904, 0.8825844259127784, 0.7797770022238028, 0.8216609491068528, 0.9361586377738186, 0.9567741845265318, 0.93712337653133, 0.9454252434658799, 0.7900863877610806, 0.9287440522949281, 0.9707276487502806, 0.9792702516416195, 0.9096978824493074, 0.9438891230696993, 0.9514124319296325, 0.857253291897161, 0.9390356608831786, 0.9236262405096727, 0.9553183674953636, 0.8954867692080816, 0.9382574145123456, 0.943823810077931, 0.8604097880927376, 0.8914288154070337, 0.9331937580585151, 0.8579394996411254, 0.9165334549155628, 0.9850373434769372, 0.9373737796394258, 0.9751839898384366, 0.8564802591785802, 0.9731901501276147, 0.9103286224228833, 0.886201806571067, 0.8197779164722059, 0.9697643014315241, 0.8879521483764083, 0.9582314615235231, 0.8595145486052328, 0.9448240745743911, 0.9437335578074113, 0.9783284081718584, 0.9797258332423102, 0.9453035218730933, 0.836004311448335, 0.8940461171034175, 0.9703004996066568, 0.8988741088448828, 0.9558844148976755, 0.9414323764127962, 0.9198366966161745, 0.8883472539642693, 0.9698657653979429, 0.9791260271504615, 0.9395596822087859, 0.8354209064906991, 0.9642149946936556, 0.8491939276314026, 0.9811366391479722, 0.7683617194620842, 0.9899617433130964, 0.871288277079736, 0.9287414057293781, 0.8585047691733795, 0.9429150659577494, 0.8754320631866567, 0.9688178717640628, 0.9058699553937023, 0.9797258332423102, 0.9645035061436353, 0.9146289396250961, 0.9314018354988812, 0.9895512202400042, 0.9793136692770673, 0.9149448129435559, 0.9383897764819424, 0.908074607040729, 0.9926093607627583, 0.9063110182753804, 0.9750549270902853, 0.767992625094457, 0.9029680805348619, 0.994565842556789, 0.9954088711249633, 0.7883345849457947, 0.9491591150857089, 0.9668859182523357, 0.9406407628289648, 0.9430103909912352, 0.9268080570430843, 0.807054841110261, 0.9404000968920493, 0.9236442074913229, 0.9586381731757203, 0.9645699856573637, 0.9686940979247305, 0.9656280092603025, 0.9440892117243442, 0.9716319433116246, 0.9073503232648482, 0.9647782927770132, 0.9855513580713632, 0.9487875510327701, 0.9690686788800952, 0.8233745357269142, 0.9758840912042396, 0.9577515705857614, 0.9612324626042645, 0.9737698718578803, 0.9550011965586953, 0.9689683136109922, 0.9971369729381593, 0.9315528676009357, 0.9188448318235694, 0.980811793487002, 0.8607879786236504, 0.8592461816985814, 0.8096480095637625, 0.9864600735602502, 0.8107882642751506, 0.7876279315745432, 0.9509758710174353, 0.8000814423621433, 0.9468243507167178, 0.8780952870962807, 0.9130725465575465, 0.9819542718802555, 0.8438205814489482, 0.9367503452627592, 0.9666601713451053, 0.9449114305986188, 0.8850855564393176, 0.9704325258366912, 0.8107882642751506, 0.9901096798731069, 0.9453982838869145, 0.9630023376986848, 0.9522527237695292, 0.9741211023394365, 0.9503644851980412, 0.8074129976205642, 0.9143929658398171, 0.969198230869932, 0.9072990561775252, 0.9548828779531788, 0.9153976561689815, 0.9751210180544586, 0.9418367572184204, 0.9424408425437361, 0.832919082263651, 0.14949829681655274, 0.9746754823648056, 0.8718643952424159, 0.9113469712389829, 0.8275224678525085, 0.9457823201314776, 0.8636058071896923, 0.9800718537078701, 0.79183385094386, 0.9709362781403207, 0.947404922180321, 0.9742610672276494, 0.9485011200032654, 0.8313798573571599, 0.9756590549674816, 0.8754109116162546, 0.9500865730243852, 0.7929336607565599, 0.9034738262525548, 0.8972127998323308, 0.9487594731209118, 0.9733960358951049, 0.9671817868749875, 0.9390641013680774, 0.9785319233395524, 0.9393582248598301, 0.9191973738803104, 0.8883356088365575, 0.9724026176430745, 0.9929048633070934, 0.9402915754255395, 0.822356921987103, 0.931094413053079, 0.9447591278978913, 0.9733043185600124, 0.9639127847377564, 0.9779264687059414, 0.9494498061727831, 0.9276999936971547, 0.9899263302733872, 0.9650089615081415, 0.9241162478908767, 0.962961646235668, 0.966822076690356, 0.890698001947025, 0.9363036153161887, 0.9402915754255395, 0.9821769725617575, 0.8322945539088725, 0.9124511436646886, 0.9353159541241438, 0.94622979240609, 0.9670189885026071, 0.9587595758123723, 0.9611853089544588, 0.9474902838528035, 0.9624615116401818, 0.8094770144771951, 0.9535284608640137, 0.8656789979197996, 0.9384340557982269, 0.9919974495989122, 0.997698196821668, 0.9944926180064928, 0.9650616369327519, 0.8904704821605925, 0.9067430426334466, 0.8956402893903718, 0.8624172211259891, 0.931250054531786, 0.8099782778145832, 0.8811090562135369, 0.8334581104549131, 0.9068926025940424, 0.837789907403659, 0.8827094024374028, 0.8880501077442823, 0.9439248636601325, 0.8850373634471047, 0.9791916955225158, 0.9173203242517313, 0.8277411636471411, 0.928617557259164, 0.9367259805986882, 0.9522505246316001, 0.8630731301991876, 0.9322056173074379, 0.9499187973943648, 0.9567895659501402, 0.9838859536654289, 0.9751746685344547, 0.9362146126167051, 0.8636058071896923, 0.9554792649665664, 0.8125681522232472, 0.8958757645489347, 0.9965827975807695, 0.9703108980941224, 0.9628524137618902, 0.9128655353522217, 0.9658597912669463, 0.8497628144901729, 0.9551308901993294, 0.963223795823687, 0.9796190359487591, 0.9789891774487304, 0.8971683345470656, 0.8305899414751311, 0.9014467535251622, 0.9021979368030045, 0.8953926226581695, 0.8960825154283248, 0.956560490427228, 0.9638484977438898, 0.8678269694621364, 0.9123270228496019, 0.8310759202687545, 0.9910300080571315, 0.9639127847377564, 0.8940007904177322, 0.9019510759386087, 0.9625266657630625, 0.9788123570917946, 0.9859815266266481, 0.8429447351081156, 0.9925256892178055, 0.840747651398097, 0.8593794906283766, 0.8967316334114142, 0.9288090020827301, 0.7609412298472159, 0.9164531747789849, 0.9715720258644991, 0.9102547947647266, 0.9614068294828354, 0.9387372075433944, 0.8710491880785778, 0.8819283346027826, 0.9618612428482003, 0.9654894160683234, 0.9692054578277614, 0.968479533562296, 0.8951222810928086, 0.8464400504863165, 0.8550075978558965, 0.949192661260124, 0.9179031602635029, 0.9448409097040018, 0.8381319761667239, 0.9736603755426592, 0.9114904482604324, 0.9173943071403938, 0.9275232716249027, 0.9549584201593961, 0.9579726355931819, 0.882319089873566, 0.918068862270017, 0.967005892553418, 0.9632575670641762, 0.9519031159174405, 0.8277546507015617, 0.9573478403746823, 0.9631911646114045, 0.890698001947025, 0.8781694105952711, 0.9566062879558185, 0.8790011630505402, 0.9378865817647959, 0.9070915974158906, 0.985684478576915, 0.9616194353820123, 0.9470562597922879, 0.9881871011779032, 0.9852728035330027, 0.9583950697253382, 0.8508495063766737, 0.9420976683319147, 0.9730703565463262, 0.9560325257758104, 0.9534019996963455, 0.9329656324053562, 0.9597748400639371, 0.9073840716201687, 0.9508889742196809, 0.9155292326501371, 0.9520821510336616, 0.9521025781111424, 0.966912241722383, 0.8485874522064747, 0.9642585188625615, 0.9736429589091725, 0.9123270228496019, 0.9188698563825086, 0.8568622334001836, 0.8008649736176093, 0.9603838109125304, 0.8203899701471102, 0.8636058071896923, 0.8279735386196115, 0.940386577984103, 0.8977455032324856, 0.8392552624645054, 0.8730075242497625, 0.954675048141339, 0.9623791277106271, 0.8050955938648667, 0.9364020989968092, 0.9231117257653563, 0.9680008796637986, 0.9455091750935404, 0.9320501963583251, 0.9285734514383356, 0.863491935591135, 0.9501504411531869, 0.9491017235792721, 0.9504751541467458, 0.86230536831934, 0.9532747535040846, 0.9325198810225364, 0.8012505208630958, 0.9927024908729819, 0.993435191689518, 0.971155972235218, 0.9726573043084736, 0.9875067199883139, 0.9139481505369575, 0.9971823076326809, 0.9508201301156362, 0.8624846008985377, 0.8849311488707444, 0.9436177924885885, 0.8672962497510842, 0.9105190367206473, 0.9893466683225606, 0.952351821417358, 0.9544865011908257, 0.9125202473196226, 0.9236938691876838, 0.8866791522221897, 0.9676914298765157, 0.9620531856862707, 0.9128319939570357, 0.926680455849824, 0.9813010637752378, 0.9578474796128856, 0.9486654335907905, 0.9654558469186877, 0.9841899562158306, 0.8316426890409341, 0.9265647923764151, 0.807054841110261, 0.983339628779254, 0.987999621570183, 0.9816947277131368, 0.9221944059002822, 0.9517569025707306, 0.8068459588808875, 0.9902332645877984, 0.9100745684918315, 0.9869013857794992, 0.9289254784066647, 0.8509326549128116, 0.8374541780601173, 0.9626574401665349, 0.9402513568631645, 0.9380394533233507, 0.9564030609774133, 0.9279368003631506, 0.9488906556196236, 0.9578949020057181, 0.9621251386907843, 0.9856631981105963, 0.9810854313026462, 0.9573174490955187, 0.9753859670317268, 0.9636364560301809, 0.8763810644881924, 0.9900784468627851, 0.943570613689481, 0.9872390399906605, 0.8696476468581359, 0.9480247363995303, 0.9796937985834786, 0.9221686700053859, 0.8694054109534931, 0.9579060269297027, 0.8072941112037346, 0.8378487334188482, 0.9437381897851301, 0.9734326233869413, 0.9858713435678872, 0.8834100743618148, 0.9755852104800246, 0.9592291571593358, 0.9580713716387042, 0.9251458343083707, 0.9338112526496438, 0.9541021991350737, 0.959117918390394, 0.9664966574161041, 0.8925274052957053, 0.933062364336495, 0.8843800640540277, 0.9886575162265805, 0.9205189466160011, 0.905173237064851, 0.9542894872162703, 0.9847834493925545, 0.8570980173781035, 0.9435058600246168, 0.9756193518219708, 0.9848430262647393, 0.9201820951081833, 0.8854381854952855, 0.9933365086968408, 0.8546857112998286, 0.9693684153930534, 0.8880501077442823], \"Term\": [\"aapl\", \"able\", \"access\", \"accord\", \"acquisition\", \"act\", \"actual\", \"actually\", \"ad\", \"ago\", \"agree\", \"airmile\", \"airmilesshop\", \"aj\", \"album\", \"allow\", \"almost\", \"already\", \"also\", \"always\", \"amazing\", \"amp\", \"analyst\", \"android\", \"anger\", \"anonymous\", \"antitrust\", \"app\", \"apple\", \"appleandibm\", \"appleid\", \"applewatch\", \"approve\", \"arrive\", \"ask\", \"astp_ket\", \"autocorrect\", \"automatically\", \"away\", \"awesome\", \"back\", \"backup\", \"bad\", \"ban\", \"bank\", \"base\", \"battery\", \"be\", \"beat\", \"best\", \"better\", \"big\", \"bit\", \"biz\", \"block\", \"bmo\", \"bond\", \"boost\", \"bose\", \"box\", \"brand\", \"break\", \"bro\", \"brown\", \"bruh\", \"bug\", \"build\", \"building\", \"bullying\", \"business\", \"buy\", \"buyvsrgqy\", \"call\", \"camera\", \"can\", \"capital\", \"card\", \"case\", \"cash\", \"catch\", \"center\", \"change\", \"channel\", \"charger\", \"check\", \"ck\", \"claim\", \"client\", \"clock\", \"clone\", \"co\", \"code\", \"come\", \"company\", \"compete\", \"computer\", \"confirm\", \"congrat\", \"congratulation\", \"continue\", \"cool\", \"cooltech\", \"could\", \"could\", \"cover\", \"coverage\", \"cp\", \"cramer\", \"crappy\", \"crash\", \"crazy\", \"create\", \"cryptocurrency\", \"currently\", \"cvaworo\", \"czemrg\", \"daily\", \"damn\", \"date\", \"datum\", \"day\", \"deal\", \"dear\", \"definitely\", \"delete\", \"demand\", \"deserve\", \"design\", \"designer\", \"detect\", \"developer\", \"development\", \"device\", \"dictatorship\", \"die\", \"difference\", \"difficult\", \"disappear\", \"discusse\", \"display\", \"disqualify\", \"diversity\", \"dnbrlk\", \"do\", \"download\", \"drive\", \"drop\", \"due\", \"dumb\", \"early\", \"earn\", \"earning\", \"easy\", \"edkq\", \"edtech\", \"education\", \"elevate\", \"ello\", \"else\", \"email\", \"emojis\", \"employee\", \"endanger\", \"enough\", \"ensure\", \"espionage\", \"even\", \"event\", \"ever\", \"executive\", \"expect\", \"experience\", \"expert\", \"explain\", \"face\", \"facetime\", \"facility\", \"failure\", \"fall\", \"family\", \"fashion\", \"fashiontech\", \"fast\", \"fe\", \"fear\", \"feature\", \"federal\", \"fibonacci_technical\", \"figure\", \"file\", \"fin\", \"final\", \"finally\", \"find\", \"finder\", \"first\", \"fitnesstracker\", \"fix\", \"flag\", \"focus\", \"folder\", \"folk\", \"follow\", \"former\", \"freak\", \"free\", \"freeze\", \"ftdaily\", \"fuck\", \"full\", \"fund\", \"future\", \"game\", \"garage\", \"gear\", \"genius_bar\", \"get\", \"gift\", \"give\", \"glitch\", \"global\", \"go\", \"good\", \"google\", \"graphic\", \"great\", \"green\", \"group\", \"grow\", \"grx\", \"grxkxabo\", \"guru\", \"guy\", \"hand\", \"happen\", \"hard\", \"hate\", \"have\", \"hcmixoo\", \"head\", \"help\", \"high\", \"hire\", \"history\", \"hit\", \"hoard\", \"hold\", \"holiday\", \"hope\", \"hour\", \"http\", \"huge\", \"hurry\", \"hysbbxpvz\", \"ibdkwrdhz\", \"ibmandtwitter\", \"icloud\", \"idea\", \"iefl\", \"ignore\", \"ill\", \"im_learne\", \"imac\", \"impact\", \"include\", \"increase\", \"innovation\", \"install\", \"invest\", \"ios\", \"iot\", \"ipad\", \"ipade\", \"iphone\", \"issue\", \"itune\", \"iwatch\", \"job\", \"judge\", \"junk\", \"keep\", \"key\", \"keyboard\", \"kid\", \"kill\", \"know\", \"lag\", \"laptop\", \"last\", \"last\", \"launch\", \"lawsuit\", \"lead\", \"leader\", \"learn\", \"leather\", \"leave\", \"legendary\", \"let\", \"level\", \"life\", \"lifetime\", \"line\", \"list\", \"little\", \"live\", \"lock\", \"lol\", \"long\", \"longer\", \"look\", \"lose\", \"lot\", \"love\", \"luxury\", \"macbook\", \"mail\", \"major\", \"make\", \"malware\", \"man\", \"manager\", \"many\", \"map\", \"mapping\", \"market\", \"massive\", \"mathematically\", \"may\", \"mean\", \"medium\", \"meet\", \"member\", \"mentm\", \"message\", \"minor\", \"minute\", \"mobile\", \"model\", \"moment\", \"money\", \"month\", \"morning\", \"move\", \"movie\", \"much\", \"multiple\", \"music\", \"must\", \"nail\", \"name\", \"need\", \"new\", \"next\", \"nice\", \"nomorepayword\", \"non\", \"none\", \"note\", \"notice\", \"number\", \"nus\", \"obsnjd\", \"oe\", \"official\", \"oixg\", \"online\", \"op\", \"open\", \"operation\", \"operator\", \"option\", \"order\", \"orjs\", \"owner\", \"pass\", \"password\", \"past\", \"patent\", \"pay\", \"peb\", \"pencil\", \"people\", \"permission\", \"person\", \"phone\", \"photo\", \"physical\", \"pic\", \"pick\", \"piss\", \"place\", \"plaintiff\", \"plan\", \"play\", \"point\", \"police\", \"pop\", \"popular\", \"positive\", \"possible\", \"post\", \"power\", \"prediction\", \"preferably\", \"previous\", \"price\", \"primesense\", \"prison\", \"privacy\", \"pro\", \"problem\", \"product\", \"productive\", \"profit\", \"proof\", \"protest\", \"purchase\", \"push\", \"put\", \"putcallratio\", \"quarter\", \"quick\", \"raise\", \"rather\", \"read\", \"ready\", \"real\", \"really\", \"reason\", \"receive\", \"recently\", \"recommend\", \"record\", \"recruit\", \"refuse\", \"release\", \"relief\", \"remind\", \"remove\", \"replacement\", \"report\", \"reportedly\", \"research\", \"restart\", \"retail\", \"return\", \"reveal\", \"ri\", \"rift\", \"right\", \"ringtone\", \"rkev\", \"roll\", \"rule\", \"rumor\", \"run\", \"rxutwt\", \"s\", \"sale\", \"save\", \"say\", \"screen\", \"search\", \"season\", \"security\", \"see\", \"seem\", \"sell\", \"send\", \"sense\", \"sentence\", \"set\", \"setting\", \"sfeap\", \"share\", \"shit\", \"shopping\", \"short\", \"show\", \"shxt\", \"sim\", \"simply\", \"sincerely\", \"site\", \"skin\", \"skirt\", \"slide\", \"slow\", \"small\", \"smart\", \"smartphone\", \"smartwatch\", \"software\", \"solution\", \"sometimes\", \"soon\", \"sorkin\", \"sort\", \"space\", \"speaker\", \"spend\", \"spot\", \"spy\", \"staff\", \"stage\", \"start\", \"stay\", \"steal\", \"still\", \"stock\", \"stockaction_trade\", \"stocks_mkt\", \"stop\", \"storage\", \"store\", \"story\", \"stream\", \"strong\", \"stuff\", \"stupid\", \"style\", \"suck\", \"supply\", \"support\", \"supporter\", \"sync\", \"tablet\", \"take\", \"talk\", \"target\", \"taus\", \"tech\", \"technical\", \"technology\", \"tedlcb\", \"tell\", \"temporarily\", \"terrible\", \"th\", \"thank\", \"thing\", \"think\", \"third\", \"threat\", \"tier\", \"time\", \"tkeapbxf\", \"today\", \"together\", \"tomorrow\", \"tool\", \"top\", \"touch\", \"trade\", \"trader\", \"trading\", \"tre\", \"trial\", \"try\", \"turn\", \"tv\", \"tv_ad\", \"twice\", \"twitter\", \"type\", \"update\", \"upgrade\", \"use\", \"useless\", \"user\", \"video\", \"view\", \"violence\", \"visit\", \"visual\", \"voaytlq\", \"wait\", \"want\", \"warm\", \"waste\", \"watch\", \"way\", \"weak\", \"wear\", \"wearable\", \"week\", \"weekend\", \"well\", \"where\", \"whole\", \"wifi\", \"will\", \"win\", \"wish\", \"word\", \"work\", \"workforce\", \"workshop\", \"world\", \"would\", \"wrong\", \"wze\", \"year\", \"yet\", \"yosemite\", \"ypfn\"]}, \"R\": 30, \"lambda.step\": 0.01, \"plot.opts\": {\"xlab\": \"PC1\", \"ylab\": \"PC2\"}, \"topic.order\": [14, 2, 16, 5, 17, 20, 12, 4, 6, 3, 11, 8, 15, 9, 18, 13, 10, 7, 1, 19]};\n",
              "\n",
              "function LDAvis_load_lib(url, callback){\n",
              "  var s = document.createElement('script');\n",
              "  s.src = url;\n",
              "  s.async = true;\n",
              "  s.onreadystatechange = s.onload = callback;\n",
              "  s.onerror = function(){console.warn(\"failed to load library \" + url);};\n",
              "  document.getElementsByTagName(\"head\")[0].appendChild(s);\n",
              "}\n",
              "\n",
              "if(typeof(LDAvis) !== \"undefined\"){\n",
              "   // already loaded: just create the visualization\n",
              "   !function(LDAvis){\n",
              "       new LDAvis(\"#\" + \"ldavis_el145140130264142288292237509\", ldavis_el145140130264142288292237509_data);\n",
              "   }(LDAvis);\n",
              "}else if(typeof define === \"function\" && define.amd){\n",
              "   // require.js is available: use it to load d3/LDAvis\n",
              "   require.config({paths: {d3: \"https://d3js.org/d3.v5\"}});\n",
              "   require([\"d3\"], function(d3){\n",
              "      window.d3 = d3;\n",
              "      LDAvis_load_lib(\"https://cdn.jsdelivr.net/gh/bmabey/pyLDAvis@3.3.1/pyLDAvis/js/ldavis.v3.0.0.js\", function(){\n",
              "        new LDAvis(\"#\" + \"ldavis_el145140130264142288292237509\", ldavis_el145140130264142288292237509_data);\n",
              "      });\n",
              "    });\n",
              "}else{\n",
              "    // require.js not available: dynamically load d3 & LDAvis\n",
              "    LDAvis_load_lib(\"https://d3js.org/d3.v5.js\", function(){\n",
              "         LDAvis_load_lib(\"https://cdn.jsdelivr.net/gh/bmabey/pyLDAvis@3.3.1/pyLDAvis/js/ldavis.v3.0.0.js\", function(){\n",
              "                 new LDAvis(\"#\" + \"ldavis_el145140130264142288292237509\", ldavis_el145140130264142288292237509_data);\n",
              "            })\n",
              "         });\n",
              "}\n",
              "</script>"
            ],
            "text/plain": [
              "PreparedData(topic_coordinates=              x         y  topics  cluster      Freq\n",
              "topic                                               \n",
              "13     0.125997  0.385772       1        1  9.252953\n",
              "1      0.380833 -0.168907       2        1  9.234236\n",
              "15    -0.010055 -0.005570       3        1  7.460877\n",
              "4      0.006557 -0.003375       4        1  6.000708\n",
              "16    -0.009990 -0.008950       5        1  5.856950\n",
              "19     0.058300  0.022429       6        1  5.517747\n",
              "11     0.060027  0.033221       7        1  5.407621\n",
              "3     -0.051387 -0.017317       8        1  5.323568\n",
              "5     -0.022772 -0.013296       9        1  4.524571\n",
              "2     -0.027433 -0.014558      10        1  4.491015\n",
              "10    -0.047666 -0.018840      11        1  4.258714\n",
              "7     -0.041705 -0.021119      12        1  4.180303\n",
              "14    -0.050591 -0.022353      13        1  3.895208\n",
              "8     -0.047609 -0.020126      14        1  3.887615\n",
              "17    -0.047008 -0.021059      15        1  3.870899\n",
              "12    -0.057458 -0.022850      16        1  3.494043\n",
              "9     -0.054059 -0.020526      17        1  3.424149\n",
              "6     -0.055538 -0.021346      18        1  3.365351\n",
              "0     -0.055351 -0.020894      19        1  3.362982\n",
              "18    -0.053092 -0.020336      20        1  3.190491, topic_info=           Term         Freq        Total Category  logprob  loglift\n",
              "0            co  1133.000000  1133.000000  Default  30.0000  30.0000\n",
              "57        store   445.000000   445.000000  Default  29.0000  29.0000\n",
              "8         agree   421.000000   421.000000  Default  28.0000  28.0000\n",
              "4          http   414.000000   414.000000  Default  27.0000  27.0000\n",
              "16        apple   297.000000   297.000000  Default  26.0000  26.0000\n",
              "...         ...          ...          ...      ...      ...      ...\n",
              "1523     person     4.731047     5.581131  Topic20  -4.9095   3.2798\n",
              "408        junk     4.104010     4.954094  Topic20  -5.0517   3.2567\n",
              "2039  workforce     3.816825     4.666911  Topic20  -5.1243   3.2439\n",
              "3572        wze     3.652226     4.517537  Topic20  -5.1683   3.2324\n",
              "3621         op     3.651128     4.519583  Topic20  -5.1686   3.2316\n",
              "\n",
              "[636 rows x 6 columns], token_table=      Topic      Freq         Term\n",
              "term                              \n",
              "12       19  0.993089         aapl\n",
              "757      11  0.969027         able\n",
              "671       4  0.940646       access\n",
              "47        5  0.948057       accord\n",
              "3623     11  0.869707  acquisition\n",
              "...     ...       ...          ...\n",
              "3572     20  0.885438          wze\n",
              "670       9  0.993337         year\n",
              "372       7  0.854686          yet\n",
              "900      18  0.969368     yosemite\n",
              "3639      7  0.888050         ypfn\n",
              "\n",
              "[607 rows x 3 columns], R=30, lambda_step=0.01, plot_opts={'xlab': 'PC1', 'ylab': 'PC2'}, topic_order=[14, 2, 16, 5, 17, 20, 12, 4, 6, 3, 11, 8, 15, 9, 18, 13, 10, 7, 1, 19])"
            ]
          },
          "metadata": {
            "tags": []
          },
          "execution_count": 21
        }
      ]
    }
  ]
}